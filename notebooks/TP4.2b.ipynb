{
 "cells": [
  {
   "cell_type": "code",
   "execution_count": 1,
   "id": "02dc4642-ee8c-4701-a8bf-e2b14147dedd",
   "metadata": {
    "tags": []
   },
   "outputs": [],
   "source": [
    "import pandas as pd\n",
    "import numpy as np\n",
    "import matplotlib.pyplot as plt\n",
    "from pathlib import Path\n",
    "import matplotlib.ticker as ticker\n",
    "from scipy.integrate import simps\n"
   ]
  },
  {
   "cell_type": "code",
   "execution_count": 8,
   "id": "f5cdd4a9-3fcf-40c9-9b39-b12c618ecee5",
   "metadata": {},
   "outputs": [],
   "source": [
    "def get_simulation_data(df):\n",
    "    df['simulation'] = 0\n",
    "    times = df['time'].unique()\n",
    "    min_time_with_eigth_balls = df.groupby('iter').agg({'ball_id':'count', 'time':'first'}).query('ball_id == 8')['time'].min()\n",
    "    return {\n",
    "        'dataframe': df,\n",
    "        'final_time': times.max(),\n",
    "        'eigth_balls_final_time': min_time_with_eigth_balls,\n",
    "    }"
   ]
  },
  {
   "cell_type": "code",
   "execution_count": 9,
   "id": "cee6e2dc-39f4-433f-b90b-8627e29c0a8f",
   "metadata": {
    "tags": []
   },
   "outputs": [
    {
     "name": "stdout",
     "output_type": "stream",
     "text": [
      "10.0\n",
      "nan\n"
     ]
    }
   ],
   "source": [
    "    BASE_PATH = '../tp4/out/pool/yposition'\n",
    "    path = f\"{BASE_PATH}/pool_y42.00_i0.csv\"\n",
    "    df = pd.read_csv(path)\n",
    "    df = get_simulation_data(df)\n",
    "    print(df['final_time'])\n",
    "    print(df['eigth_balls_final_time'])"
   ]
  },
  {
   "cell_type": "code",
   "execution_count": 4,
   "id": "3b801f7f-9e61-48ea-a831-0632b46df393",
   "metadata": {
    "tags": []
   },
   "outputs": [],
   "source": [
    "def plot_map(name,plot_map, xlabel, ylabel, log_scale):\n",
    "    positions = [position for position in plot_map.keys()]\n",
    "    values = [value[0] for value in plot_map.values()]\n",
    "    errors = [value[1] for value in plot_map.values()]\n",
    "        \n",
    "    plt.errorbar(positions, values, yerr=errors, fmt='o', color='black', ecolor='red', capsize=3)\n",
    "    plt.xlabel(xlabel)\n",
    "    plt.ylabel(ylabel)\n",
    "    if log_scale:\n",
    "        plt.yscale(\"log\")\n",
    "    plt.grid(True)\n",
    "    plt.savefig(name)\n",
    "    plt.clf()"
   ]
  },
  {
   "cell_type": "code",
   "execution_count": 5,
   "id": "c795c279-2585-4e70-b2ba-83d573e7d978",
   "metadata": {
    "tags": []
   },
   "outputs": [],
   "source": [
    "# funcion que grafica el observable en funcion de la coordenada Y\n",
    "# en que se ubica la pelota blanca. Se puede graficar el tiempo en \n",
    "# desaparecen todas las pelotas pasando como parametro 'last_event_time', \n",
    "# y con 'max_time_with_two_balls'el máximo tiempo para el que hay dos pelo\n",
    "# tas en el tablero.\n",
    "\n",
    "def plot_observable(criteria, log_scale):\n",
    "    path = r'../tp4/out/pool/yposition'\n",
    "    lista = ['42.00', '42.70', '43.40', '44.10', '44.80', '45.50', '46.20', '46.90', '47.60', '48.30','49.00','49.70']\n",
    "    position_map = {}\n",
    "    for position in lista:\n",
    "        regex = '*y'+ position+'_i*.csv'\n",
    "        files = Path(path).glob(regex)\n",
    "        dfs = [pd.read_csv(f) for f in files]\n",
    "        \n",
    "        time_list = []\n",
    "        for df in dfs:\n",
    "            simulation_data = get_simulation_data(df)\n",
    "            final_time = simulation_data[criteria]\n",
    "            time_list.append(final_time)\n",
    "\n",
    "        position_map[position] = (np.mean(time_list), np.std(time_list))\n",
    "    print(position_map)\n",
    "    plot_map('PositionVS'+criteria+'.png',position_map,'Coordenada Y','Tiempo de finalización (s)', log_scale)\n",
    "    "
   ]
  },
  {
   "cell_type": "code",
   "execution_count": 7,
   "id": "91a7d0a0-960e-45eb-886b-5dc1e769a486",
   "metadata": {
    "tags": []
   },
   "outputs": [
    {
     "name": "stdout",
     "output_type": "stream",
     "text": [
      "{'42.00': (1.0, 0.0), '42.70': (1.0, 0.0), '43.40': (1.0, 0.0), '44.10': (1.0, 0.0), '44.80': (1.0, 0.0), '45.50': (1.0, 0.0), '46.20': (1.0, 0.0), '46.90': (1.0, 0.0), '47.60': (1.0, 0.0), '48.30': (1.0, 0.0), '49.00': (1.0, 0.0), '49.70': (1.0, 0.0)}\n"
     ]
    },
    {
     "data": {
      "text/plain": [
       "<Figure size 640x480 with 0 Axes>"
      ]
     },
     "metadata": {},
     "output_type": "display_data"
    }
   ],
   "source": [
    "plot_observable('final_time',True)\n",
    "# plot_observable('eigth_balls_final_time', True)"
   ]
  },
  {
   "cell_type": "code",
   "execution_count": null,
   "id": "ddd6fc40-0dbb-4df8-8528-94885ca13a73",
   "metadata": {},
   "outputs": [],
   "source": []
  }
 ],
 "metadata": {
  "kernelspec": {
   "display_name": "Python 3 (ipykernel)",
   "language": "python",
   "name": "python3"
  },
  "language_info": {
   "codemirror_mode": {
    "name": "ipython",
    "version": 3
   },
   "file_extension": ".py",
   "mimetype": "text/x-python",
   "name": "python",
   "nbconvert_exporter": "python",
   "pygments_lexer": "ipython3",
   "version": "3.10.0"
  }
 },
 "nbformat": 4,
 "nbformat_minor": 5
}
