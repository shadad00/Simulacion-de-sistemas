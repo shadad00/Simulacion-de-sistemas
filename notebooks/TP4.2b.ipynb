{
 "cells": [
  {
   "cell_type": "code",
   "execution_count": 39,
   "id": "02dc4642-ee8c-4701-a8bf-e2b14147dedd",
   "metadata": {
    "tags": []
   },
   "outputs": [],
   "source": [
    "import pandas as pd\n",
    "import numpy as np\n",
    "import matplotlib.pyplot as plt\n",
    "from pathlib import Path\n",
    "import matplotlib.ticker as ticker\n",
    "from scipy.integrate import simps\n"
   ]
  },
  {
   "cell_type": "code",
   "execution_count": 55,
   "id": "f5cdd4a9-3fcf-40c9-9b39-b12c618ecee5",
   "metadata": {},
   "outputs": [],
   "source": [
    "def get_simulation_data(df):\n",
    "    df['simulation'] = 0\n",
    "    times = df['time'].unique()\n",
    "    min_time_with_eigth_balls = df.groupby('iter').agg({'ball_id':'count', 'time':'first'}).query('ball_id == 8')['time'].min()\n",
    "    return {\n",
    "        'dataframe': df,\n",
    "        'final_time': times.max(),\n",
    "        'eigth_balls_final_time': min_time_with_eigth_balls,\n",
    "    }"
   ]
  },
  {
   "cell_type": "code",
   "execution_count": 57,
   "id": "cee6e2dc-39f4-433f-b90b-8627e29c0a8f",
   "metadata": {
    "tags": []
   },
   "outputs": [
    {
     "name": "stdout",
     "output_type": "stream",
     "text": [
      "100.0\n",
      "57.96\n"
     ]
    }
   ],
   "source": [
    "    BASE_PATH = '../tp4/out/pool/yposition'\n",
    "    path = f\"{BASE_PATH}/pool_y42.00_i0.csv\"\n",
    "    df = pd.read_csv(path)\n",
    "    df = get_simulation_data(df)\n",
    "    print(df['final_time'])\n",
    "    print(df['eigth_balls_final_time'])"
   ]
  },
  {
   "cell_type": "code",
   "execution_count": 66,
   "id": "3b801f7f-9e61-48ea-a831-0632b46df393",
   "metadata": {
    "tags": []
   },
   "outputs": [],
   "source": [
    "def plot_map(name,plot_map, xlabel, ylabel, log_scale):\n",
    "    positions = [position for position in plot_map.keys()]\n",
    "    values = [value[0] for value in plot_map.values()]\n",
    "    errors = [value[1] for value in plot_map.values()]\n",
    "        \n",
    "    plt.errorbar(positions, values, yerr=errors, fmt='o', color='black', ecolor='red', capsize=3)\n",
    "    plt.xlabel(xlabel)\n",
    "    plt.ylabel(ylabel)\n",
    "    if log_scale:\n",
    "        plt.yscale(\"log\")\n",
    "    plt.grid(True)\n",
    "    plt.savefig(name)\n",
    "    plt.clf()"
   ]
  },
  {
   "cell_type": "code",
   "execution_count": 67,
   "id": "c795c279-2585-4e70-b2ba-83d573e7d978",
   "metadata": {
    "tags": []
   },
   "outputs": [],
   "source": [
    "# funcion que grafica el observable en funcion de la coordenada Y\n",
    "# en que se ubica la pelota blanca. Se puede graficar el tiempo en \n",
    "# desaparecen todas las pelotas pasando como parametro 'last_event_time', \n",
    "# y con 'max_time_with_two_balls'el máximo tiempo para el que hay dos pelo\n",
    "# tas en el tablero.\n",
    "\n",
    "def plot_observable(criteria, log_scale):\n",
    "    path = r'../tp4/out/pool/yposition'\n",
    "    lista = ['42.00', '42.70', '43.40', '44.10', '44.80', '45.50', '46.20', '46.90', '47.60', '48.30','49.00','49.70']\n",
    "    position_map = {}\n",
    "    for position in lista:\n",
    "        regex = '*y'+ position+'_i*.csv'\n",
    "        files = Path(path).glob(regex)\n",
    "        dfs = [pd.read_csv(f) for f in files]\n",
    "        \n",
    "        time_list = []\n",
    "        for df in dfs:\n",
    "            simulation_data = get_simulation_data(df)\n",
    "            final_time = simulation_data[criteria]\n",
    "            time_list.append(final_time)\n",
    "\n",
    "        position_map[position] = (np.mean(time_list), np.std(time_list))\n",
    "    print(position_map)\n",
    "    plot_map('PositionVS'+criteria+'.png',position_map,'Coordenada Y','Tiempo de finalización (s)', log_scale)\n",
    "    "
   ]
  },
  {
   "cell_type": "code",
   "execution_count": 68,
   "id": "91a7d0a0-960e-45eb-886b-5dc1e769a486",
   "metadata": {
    "tags": []
   },
   "outputs": [
    {
     "name": "stdout",
     "output_type": "stream",
     "text": [
      "{'42.00': (100.0, 0.0), '42.70': (100.0, 0.0), '43.40': (100.0, 0.0), '44.10': (100.0, 0.0), '44.80': (100.0, 0.0), '45.50': (99.08, 0.9200000000000017), '46.20': (100.0, 0.0), '46.90': (86.985, 13.015), '47.60': (100.0, 0.0), '48.30': (87.72999999999999, 12.270000000000003), '49.00': (100.0, 0.0), '49.70': (100.0, 0.0)}\n",
      "{'42.00': (48.09, 9.870000000000001), '42.70': (49.175, 18.935), '43.40': (25.515, 3.754999999999999), '44.10': (33.46, 8.229999999999999), '44.80': (35.15, 0.240000000000002), '45.50': (23.724999999999998, 8.604999999999999), '46.20': (24.244999999999997, 2.8450000000000006), '46.90': (25.905, 5.945), '47.60': (27.73, 5.449999999999999), '48.30': (25.96, 6.350000000000001), '49.00': (36.584999999999994, 1.6050000000000004), '49.70': (43.07, 3.5)}\n"
     ]
    },
    {
     "data": {
      "text/plain": [
       "<Figure size 640x480 with 0 Axes>"
      ]
     },
     "metadata": {},
     "output_type": "display_data"
    }
   ],
   "source": [
    "plot_observable('final_time',True)\n",
    "plot_observable('eigth_balls_final_time', True)"
   ]
  },
  {
   "cell_type": "code",
   "execution_count": null,
   "id": "ddd6fc40-0dbb-4df8-8528-94885ca13a73",
   "metadata": {},
   "outputs": [],
   "source": []
  }
 ],
 "metadata": {
  "kernelspec": {
   "display_name": "Python 3 (ipykernel)",
   "language": "python",
   "name": "python3"
  },
  "language_info": {
   "codemirror_mode": {
    "name": "ipython",
    "version": 3
   },
   "file_extension": ".py",
   "mimetype": "text/x-python",
   "name": "python",
   "nbconvert_exporter": "python",
   "pygments_lexer": "ipython3",
   "version": "3.10.0"
  }
 },
 "nbformat": 4,
 "nbformat_minor": 5
}
