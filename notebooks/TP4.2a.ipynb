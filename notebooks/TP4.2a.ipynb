{
 "cells": [
  {
   "cell_type": "code",
   "execution_count": 52,
   "id": "72045a9f-1d98-4492-abf3-3ba767e62f48",
   "metadata": {
    "tags": []
   },
   "outputs": [],
   "source": [
    "import pandas as pd\n",
    "import numpy as np\n",
    "import matplotlib.pyplot as plt\n",
    "from pathlib import Path\n",
    "import matplotlib.ticker as ticker\n",
    "from scipy.integrate import simps"
   ]
  },
  {
   "cell_type": "code",
   "execution_count": 53,
   "id": "426540f2-4315-4988-99f2-458ed896a035",
   "metadata": {
    "tags": []
   },
   "outputs": [],
   "source": [
    "\n",
    "def get_k_function(current_df, before_df):\n",
    "    merged_df = pd.merge(current_df, before_df, on=['time', 'ball_id'])\n",
    "    merged_df['xdiff'] = merged_df['pos_x_x'] - merged_df['pos_x_y']\n",
    "    merged_df['ydiff'] = merged_df['pos_y_x'] - merged_df['pos_y_y']\n",
    "    merged_df['xdiff'] = merged_df['xdiff'].apply(abs)\n",
    "    merged_df['ydiff'] = merged_df['ydiff'].apply(abs)\n",
    "    result = merged_df.groupby('time').agg({'xdiff': 'sum', 'ydiff': 'sum'})   \n",
    "    result['distance'] = result[['xdiff', 'ydiff']].apply(lambda row: np.sqrt(row['xdiff']**2 + row['ydiff']**2), axis=1)\n",
    "    result = result[['distance']]\n",
    "    return result\n",
    "\n"
   ]
  },
  {
   "cell_type": "code",
   "execution_count": 57,
   "id": "186800f7-5ed5-43a4-8371-f559737f68bd",
   "metadata": {},
   "outputs": [],
   "source": [
    "def plot_data_frame(df,label=None ): \n",
    "    time = df.index.values\n",
    "    time = np.clip(time, 0, 100.)\n",
    "    dist = df['distance'].values\n",
    "    plt.plot(time, dist, label=label)    \n",
    "    plt.xlabel('Tiempo(s)')\n",
    "    plt.ylabel('Diferencia entre posiciones (cm)')\n",
    "    plt.yscale('log') \n",
    "\n",
    "    "
   ]
  },
  {
   "cell_type": "code",
   "execution_count": 55,
   "id": "4b9eb350-eade-41d2-9b36-ae57ae1d091e",
   "metadata": {
    "tags": []
   },
   "outputs": [],
   "source": [
    "def plot_results(results, filename):\n",
    "    labels = ['k=2', 'k=3', 'k=4', 'k=5']\n",
    "    for df,label in zip(results,labels): \n",
    "        plot_data_frame(df, label=label)\n",
    "    plt.legend()\n",
    "    plt.savefig(filename)"
   ]
  },
  {
   "cell_type": "code",
   "execution_count": 74,
   "id": "6b6645c6-7643-4b23-9a76-b93d48dc3259",
   "metadata": {
    "tags": []
   },
   "outputs": [
    {
     "data": {
      "image/png": "[encoded data removed]",
      "text/plain": [
       "<Figure size 640x480 with 1 Axes>"
      ]
     },
     "metadata": {},
     "output_type": "display_data"
    }
   ],
   "source": [
    "    path = r'../tp4/out/pool/dt'\n",
    "    regex = '*.csv'\n",
    "    files = sorted(Path(path).glob(regex))\n",
    "    results = []\n",
    "    for index in range(1,len(files)): \n",
    "        current_df = pd.read_csv(files[index])\n",
    "        before_df = pd.read_csv(files[index - 1])\n",
    "        result = get_k_function(current_df, before_df)\n",
    "        results.append(result)\n",
    "    # limit = 100\n",
    "    # filename =f'Phi_k{limit}.png'\n",
    "    # plot_results(results, filename)\n",
    "    \n",
    "    means = []\n",
    "    for result in results: \n",
    "        means.append(result.loc[result.index <= 10]['distance'].mean())\n",
    "\n",
    "    dts = [2,3,4,5]\n",
    "    plt.scatter(dts, means)\n",
    "    plt.xticks(range(2,6))\n",
    "    plt.xlabel(\"k\")\n",
    "    plt.ylabel(\"Error promedio\")\n",
    "    plt.savefig(\"Error_promedio.png\")\n",
    "    \n",
    "    \n",
    "    "
   ]
  },
  {
   "cell_type": "code",
   "execution_count": null,
   "id": "3437e797-3951-4f21-b741-ecc05c3c3255",
   "metadata": {},
   "outputs": [],
   "source": []
  }
 ],
 "metadata": {
  "kernelspec": {
   "display_name": "Python 3 (ipykernel)",
   "language": "python",
   "name": "python3"
  },
  "language_info": {
   "codemirror_mode": {
    "name": "ipython",
    "version": 3
   },
   "file_extension": ".py",
   "mimetype": "text/x-python",
   "name": "python",
   "nbconvert_exporter": "python",
   "pygments_lexer": "ipython3",
   "version": "3.10.0"
  }
 },
 "nbformat": 4,
 "nbformat_minor": 5
}
