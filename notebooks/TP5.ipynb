{
 "cells": [
  {
   "cell_type": "code",
   "execution_count": 38,
   "id": "3396dc1c-1721-4ce9-b72b-3f21143ef3dc",
   "metadata": {
    "tags": []
   },
   "outputs": [],
   "source": [
    "import pandas as pd\n",
    "import numpy as np\n",
    "import matplotlib.pyplot as plt\n",
    "from pathlib import Path\n",
    "import matplotlib.ticker as ticker\n",
    "from scipy.integrate import simps\n",
    "from scipy.optimize import curve_fit\n",
    "\n",
    "\n",
    "from sklearn.linear_model import LinearRegression"
   ]
  },
  {
   "cell_type": "code",
   "execution_count": 39,
   "id": "a5d464ac-6705-430e-af01-fbe73c9e6e8d",
   "metadata": {
    "tags": []
   },
   "outputs": [],
   "source": [
    "BASE_PATH = '../tp5/out/flux/'"
   ]
  },
  {
   "cell_type": "code",
   "execution_count": 40,
   "id": "3d4c121f-b81a-42c5-baa9-0d6f5bc04d72",
   "metadata": {
    "tags": []
   },
   "outputs": [],
   "source": [
    "def get_linear_regresssion(df):\n",
    "    x = np.array(df.index)\n",
    "    y = np.array(df['sum'])\n",
    "    A = np.vstack([x, np.ones(len(x))]).T\n",
    "    m, c = np.linalg.lstsq(A, y, rcond=None)[0]\n",
    "    return m , c"
   ]
  },
  {
   "cell_type": "code",
   "execution_count": 4,
   "id": "12e28424-a9e0-430d-8ad2-200beea7af7f",
   "metadata": {
    "tags": []
   },
   "outputs": [],
   "source": [
    "def get_simulation_data(df):\n",
    "    time_flux = df.groupby('time').agg({'ball_id':'count'}); \n",
    "    return {\n",
    "        'discharge' : pd.DataFrame({'time': time_flux.index,'sum': time_flux.cumsum()['ball_id']})\n",
    "    }"
   ]
  },
  {
   "cell_type": "code",
   "execution_count": 5,
   "id": "85389514-8731-464b-bbaa-6458ea9763a7",
   "metadata": {
    "tags": []
   },
   "outputs": [],
   "source": [
    "def plot_flux(figure,tiempo, discharge, line):\n",
    "    plt.plot(tiempo, discharge,marker='x', label='Descarga')\n",
    "    plt.plot(tiempo, line, label='Regresión lineal')\n",
    "    plt.xlabel('Tiempo')\n",
    "    plt.ylabel('Cantidad de pelotas')\n",
    "    plt.grid(True)\n",
    "    plt.legend()\n",
    "    plt.savefig(figure)\n",
    "    plt.clf()"
   ]
  },
  {
   "cell_type": "code",
   "execution_count": 6,
   "id": "2f9ba69e-11bf-4e09-815f-b58df2706074",
   "metadata": {
    "tags": []
   },
   "outputs": [],
   "source": [
    "def plot_map(name,plot_map, xlabel, ylabel, log_scale):\n",
    "    x = [position for position in plot_map.keys()]\n",
    "    y = [value[0] for value in plot_map.values()]\n",
    "    errors = [value[1] for value in plot_map.values()]\n",
    "        \n",
    "    plt.errorbar(x, y, yerr=errors, fmt='o', color='black', ecolor='red', capsize=3)\n",
    "    plt.xlabel(xlabel)\n",
    "    plt.ylabel(ylabel)\n",
    "    if log_scale:\n",
    "        plt.yscale(\"log\")\n",
    "    plt.xticks(x)\n",
    "    plt.grid(True)\n",
    "    plt.savefig(name)\n",
    "    plt.clf()"
   ]
  },
  {
   "cell_type": "code",
   "execution_count": 7,
   "id": "874bfc03-570d-48af-afcc-c49d11d450d3",
   "metadata": {
    "tags": []
   },
   "outputs": [],
   "source": [
    "def get_charge(path):\n",
    "    df = pd.read_csv(path)\n",
    "    df = get_simulation_data(df)\n",
    "    df = df['discharge']\n",
    "    m, c = get_linear_regresssion(df)\n",
    "    y = m * (df.index) + c\n",
    "    S = np.sqrt(sum((df['sum'] - y) ** 2) / (len(df.time) - 2))\n",
    "    time_mean = np.mean(df.index)\n",
    "    SS = np.sqrt(sum((df.index - time_mean) ** 2))\n",
    "    return m, (S/SS)\n",
    "    "
   ]
  },
  {
   "cell_type": "code",
   "execution_count": 11,
   "id": "bc56fc38-d7dd-4516-a3bf-efb7c897dce1",
   "metadata": {
    "tags": []
   },
   "outputs": [],
   "source": [
    "    # function for generating the discharge curve for the freq, \n",
    "    # receiving the csv path as parameter\n",
    "    def plot_discharge_line_for_freq(freq, path):        \n",
    "        df = pd.read_csv(path)\n",
    "        df = get_simulation_data(df)\n",
    "        df = df['discharge']\n",
    "        m, c = get_linear_regresssion(df)\n",
    "        y = m * (df.index) + c\n",
    "        plot_flux(f'{freq}Discharge.png',df.index, df['sum'], y)"
   ]
  },
  {
   "cell_type": "code",
   "execution_count": 14,
   "id": "bec81c68-ede9-4148-a51e-329cce83076f",
   "metadata": {
    "tags": []
   },
   "outputs": [
    {
     "data": {
      "text/plain": [
       "<Figure size 640x480 with 0 Axes>"
      ]
     },
     "metadata": {},
     "output_type": "display_data"
    }
   ],
   "source": [
    "# generate the caudal vs frequency graph  \n",
    "def plot_caudal_by_frequency():\n",
    "    path = f\"{BASE_PATH}/\"\n",
    "    frequencies = [5,10, 15, 20, 30, 50]\n",
    "    result = {}\n",
    "    for freq in frequencies: \n",
    "        regex = '*fq'+ str(freq)+'*_i*.csv'\n",
    "        files = Path(path).glob(regex)\n",
    "        dfs = [get_charge(f) for f in files][0]\n",
    "        result[freq] = dfs\n",
    "    plot_map(\"fluxVsFreq.png\", result, \"Frecuencia\", \"Caudal\", False)\n",
    "\n",
    "plot_caudal_by_frequency()\n"
   ]
  },
  {
   "cell_type": "code",
   "execution_count": 13,
   "id": "8d2886bb-f964-47fd-b4c7-7d5566f90ad8",
   "metadata": {
    "tags": []
   },
   "outputs": [
    {
     "data": {
      "text/plain": [
       "<Figure size 640x480 with 0 Axes>"
      ]
     },
     "metadata": {},
     "output_type": "display_data"
    }
   ],
   "source": [
    "# generate all the discharge curves  \n",
    "def plot_discharge_line():\n",
    "    base = f\"{BASE_PATH}/\"\n",
    "    frequencies = [5,10, 15, 20, 30, 50]\n",
    "    for freq in frequencies: \n",
    "        regex = '*fq'+ str(freq)+'*_i*.csv'\n",
    "        files = Path(base).glob(regex)\n",
    "        path = [f for f in files][0]\n",
    "        plot_discharge_line_for_freq(freq, path)\n",
    "plot_discharge_line()\n",
    "        "
   ]
  },
  {
   "cell_type": "code",
   "execution_count": 22,
   "id": "a4e0cc84",
   "metadata": {
    "tags": []
   },
   "outputs": [],
   "source": [
    "def get_caudal_by_gap():\n",
    "    path = f\"{BASE_PATH}/\"\n",
    "    gaps = [4, 5, 6]\n",
    "    caudales = []\n",
    "    result = {}\n",
    "    for gap in gaps: \n",
    "        regex = '*gap'+ str(gap)+'*_i*.csv'\n",
    "        files = Path(path).glob(regex)\n",
    "        caudal = [get_charge(f) for f in files][0]\n",
    "        caudales.append(caudal[0])\n",
    "        \n",
    "    \n",
    "    result[\"d\"] = gaps\n",
    "    result[\"q\"] = caudales\n",
    "\n",
    "    return result"
   ]
  },
  {
   "cell_type": "code",
   "execution_count": 23,
   "id": "a3fe14d6",
   "metadata": {
    "tags": []
   },
   "outputs": [],
   "source": [
    "def estimate_beverloo_constant(dictio):\n",
    "    X = np.array(dictio[\"d\"]).reshape(-1, 1)\n",
    "    y = np.array(dictio[\"q\"])\n",
    "    \n",
    "    model = LinearRegression()\n",
    "    model.fit(X, y)\n",
    "    \n",
    "    # q = A exp(x)\n",
    "    # Q = B exp(d - cr) \n",
    "    \n",
    "    beverloo_constant = model.coef_[0]\n",
    "    return beverloo_constant"
   ]
  },
  {
   "cell_type": "code",
   "execution_count": 66,
   "id": "a3ea9039-f8c7-490d-a123-8a0ad29ab219",
   "metadata": {
    "tags": []
   },
   "outputs": [],
   "source": [
    "# Definir la función lineal\n",
    "def linear_func(d, c):\n",
    "    return d - c\n",
    "\n",
    "def plot_beverloo(points,c):\n",
    "    B = (200 /(0.7 * 0.2)) * np.sqrt(9.81)\n",
    "    r = 0.01\n",
    "    x = np.arange(0, 0.20, 0.001)\n",
    "    y = B*((x-c*r)**1.5)\n",
    "    x_p = [p[0] for p in points]\n",
    "    y_p = [p[1] for p in points]\n",
    "    \n",
    "    plt.plot(x,y, label='Regresion')\n",
    "    plt.plot(x_p, y_p, marker='x')\n",
    "    # plot(points)\n",
    "    plt.legend()\n",
    "    plt.show()"
   ]
  },
  {
   "cell_type": "code",
   "execution_count": 69,
   "id": "4c21527f-8b42-4584-a01e-2ac7b2262dc2",
   "metadata": {
    "tags": []
   },
   "outputs": [
    {
     "name": "stdout",
     "output_type": "stream",
     "text": [
      "[-0.153239]\n",
      "(0.04, 413.4592790210367)\n"
     ]
    },
    {
     "data": {
      "image/png": "[encoded data removed]",
      "text/plain": [
       "<Figure size 640x480 with 1 Axes>"
      ]
     },
     "metadata": {},
     "output_type": "display_data"
    },
    {
     "name": "stdout",
     "output_type": "stream",
     "text": [
      "[413.4592790210367, 407.04532773674026, 409.39969532604704]\n"
     ]
    }
   ],
   "source": [
    "dictio = get_caudal_by_gap()\n",
    "D = dictio[\"d\"]\n",
    "Q = dictio[\"q\"]\n",
    "D = np.array(D)/100 #pasando a centimetros\n",
    "B = (200 /(0.7 * 0.2)) * np.sqrt(9.81)\n",
    "Q_despejado = np.exp((np.log(Q/B))/(1.5))\n",
    "popt, _ = curve_fit(linear_func, D, Q_despejado)\n",
    "b_opt = popt[0] # c que aproxima. \n",
    "print(popt)\n",
    "\n",
    "points = []\n",
    "for d,q in zip(D,Q):\n",
    "    points.append((d,q))\n",
    "print(points[:][0])\n",
    "\n",
    "plot_beverloo(points,b_opt)\n",
    "print(Q)"
   ]
  },
  {
   "cell_type": "code",
   "execution_count": 20,
   "id": "e8387c61",
   "metadata": {
    "tags": []
   },
   "outputs": [
    {
     "name": "stdout",
     "output_type": "stream",
     "text": [
      "[413.4592790210367, 407.04532773674026, 409.39969532604704]\n",
      "('d', [4, 5, 6])\n",
      "('q', [413.4592790210367, 407.04532773674026, 409.39969532604704])\n"
     ]
    },
    {
     "data": {
      "text/plain": [
       "array([36068.14602258, 50330.4367313 , 66094.21340931])"
      ]
     },
     "execution_count": 20,
     "metadata": {},
     "output_type": "execute_result"
    }
   ],
   "source": [
    "dictio = get_caudal_by_gap()\n",
    "B = (200 /(0.7 * 0.2)) * np.sqrt(9.81)\n",
    "R = 0.01\n",
    "for items in dictio.items():\n",
    "    print(items)\n",
    "bev = estimate_beverloo_constant(dictio)\n",
    "\n",
    "predicted_Q = B * (dictio[\"d\"] - bev * R) ** 1.5\n",
    "predicted_Q"
   ]
  },
  {
   "cell_type": "code",
   "execution_count": 11,
   "id": "ebd60977-bdfa-4ecd-b47d-2656d290ba4b",
   "metadata": {
    "tags": []
   },
   "outputs": [
    {
     "ename": "NameError",
     "evalue": "name 'df' is not defined",
     "output_type": "error",
     "traceback": [
      "\u001b[0;31m---------------------------------------------------------------------------\u001b[0m",
      "\u001b[0;31mNameError\u001b[0m                                 Traceback (most recent call last)",
      "Cell \u001b[0;32mIn[11], line 5\u001b[0m\n\u001b[1;32m      2\u001b[0m time_bins \u001b[38;5;241m=\u001b[39m np\u001b[38;5;241m.\u001b[39marange(\u001b[38;5;241m0\u001b[39m, \u001b[38;5;241m10\u001b[39m, time_delta)\n\u001b[1;32m      4\u001b[0m data \u001b[38;5;241m=\u001b[39m []\n\u001b[0;32m----> 5\u001b[0m df_without_index \u001b[38;5;241m=\u001b[39m \u001b[43mdf\u001b[49m\u001b[38;5;241m.\u001b[39mreset_index()\n\u001b[1;32m      6\u001b[0m \u001b[38;5;28;01mfor\u001b[39;00m i \u001b[38;5;129;01min\u001b[39;00m \u001b[38;5;28mrange\u001b[39m(\u001b[38;5;241m0\u001b[39m, \u001b[38;5;28mlen\u001b[39m(time_bins) \u001b[38;5;241m-\u001b[39m \u001b[38;5;241m1\u001b[39m):\n\u001b[1;32m      7\u001b[0m     lower \u001b[38;5;241m=\u001b[39m time_bins[i]\n",
      "\u001b[0;31mNameError\u001b[0m: name 'df' is not defined"
     ]
    }
   ],
   "source": [
    "time_delta = 1\n",
    "time_bins = np.arange(0, 10, time_delta)\n",
    "\n",
    "data = []\n",
    "df_without_index = df.reset_index()\n",
    "for i in range(0, len(time_bins) - 1):\n",
    "    lower = time_bins[i]\n",
    "    upper = time_bins[i + 1]\n",
    "\n",
    "    particles = df_without_index[(df_without_index['time'] < upper) & (df_without_index['time'] >= lower)]['ball_id'].sum()\n",
    "    data.append({'time': lower, 'particles': particles})\n",
    "\n",
    "q_df = pd.DataFrame(data)\n",
    "q_df.plot(x='time', y='particles')\n",
    "\n",
    "q_df.mean()"
   ]
  },
  {
   "cell_type": "code",
   "execution_count": null,
   "id": "745932ad-18f2-4c4d-a46b-2c1070cfc6ad",
   "metadata": {
    "tags": []
   },
   "outputs": [],
   "source": [
    "rolling_df = df.copy().reset_index()\n",
    "rolling_df['Timestamp'] = pd.to_datetime(rolling_df['time'], unit='s')\n",
    "rolling_df.set_index('Timestamp', inplace=True)\n",
    "rolling_df.rolling(window='1000ms')['ball_id'].sum().plot()"
   ]
  }
 ],
 "metadata": {
  "kernelspec": {
   "display_name": "Python 3 (ipykernel)",
   "language": "python",
   "name": "python3"
  },
  "language_info": {
   "codemirror_mode": {
    "name": "ipython",
    "version": 3
   },
   "file_extension": ".py",
   "mimetype": "text/x-python",
   "name": "python",
   "nbconvert_exporter": "python",
   "pygments_lexer": "ipython3",
   "version": "3.10.0"
  }
 },
 "nbformat": 4,
 "nbformat_minor": 5
}
