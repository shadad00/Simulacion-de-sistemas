{
 "cells": [
  {
   "cell_type": "code",
   "execution_count": 1,
   "id": "3396dc1c-1721-4ce9-b72b-3f21143ef3dc",
   "metadata": {
    "tags": []
   },
   "outputs": [],
   "source": [
    "import pandas as pd\n",
    "import numpy as np\n",
    "import matplotlib.pyplot as plt\n",
    "from pathlib import Path\n",
    "import matplotlib.ticker as ticker\n",
    "from scipy.integrate import simps\n",
    "from scipy.optimize import curve_fit\n",
    "\n",
    "\n",
    "from sklearn.linear_model import LinearRegression"
   ]
  },
  {
   "cell_type": "code",
   "execution_count": 2,
   "id": "a5d464ac-6705-430e-af01-fbe73c9e6e8d",
   "metadata": {
    "tags": []
   },
   "outputs": [],
   "source": [
    "BASE_PATH = '../tp5/out/flux/'"
   ]
  },
  {
   "cell_type": "code",
   "execution_count": 3,
   "id": "3d4c121f-b81a-42c5-baa9-0d6f5bc04d72",
   "metadata": {
    "tags": []
   },
   "outputs": [],
   "source": [
    "def get_linear_regresssion(df):\n",
    "    x = np.array(df.index)\n",
    "    y = np.array(df['sum'])\n",
    "    A = np.vstack([x, np.ones(len(x))]).T\n",
    "    m, c = np.linalg.lstsq(A, y, rcond=None)[0]\n",
    "    return m , c"
   ]
  },
  {
   "cell_type": "code",
   "execution_count": 4,
   "id": "12e28424-a9e0-430d-8ad2-200beea7af7f",
   "metadata": {
    "tags": []
   },
   "outputs": [],
   "source": [
    "def get_simulation_data(df):\n",
    "    time_flux = df.groupby('time').agg({'ball_id':'count'}); \n",
    "    return {\n",
    "        'discharge' : pd.DataFrame({'time': time_flux.index,'sum': time_flux.cumsum()['ball_id']})\n",
    "    }"
   ]
  },
  {
   "cell_type": "code",
   "execution_count": 5,
   "id": "85389514-8731-464b-bbaa-6458ea9763a7",
   "metadata": {
    "tags": []
   },
   "outputs": [],
   "source": [
    "def plot_flux(figure,tiempo, discharge, line):\n",
    "    plt.plot(tiempo, discharge,marker='x', label='Descarga')\n",
    "    plt.plot(tiempo, line, label='Regresión lineal')\n",
    "    plt.xlabel('Tiempo')\n",
    "    plt.ylabel('Cantidad de pelotas')\n",
    "    plt.legend()\n",
    "    plt.savefig(figure)\n",
    "    plt.clf()"
   ]
  },
  {
   "cell_type": "code",
   "execution_count": 6,
   "id": "2f9ba69e-11bf-4e09-815f-b58df2706074",
   "metadata": {
    "tags": []
   },
   "outputs": [],
   "source": [
    "def plot_map(name,plot_map, xlabel, ylabel, log_scale):\n",
    "    x = [position for position in plot_map.keys()]\n",
    "    y = [value[0] for value in plot_map.values()]\n",
    "    errors = [value[1] for value in plot_map.values()]\n",
    "        \n",
    "    plt.errorbar(x, y, yerr=errors, fmt='o', color='black', ecolor='red', capsize=3)\n",
    "    plt.xlabel(xlabel)\n",
    "    plt.ylabel(ylabel)\n",
    "    if log_scale:\n",
    "        plt.yscale(\"log\")\n",
    "    plt.xticks(x)\n",
    "    plt.grid(True)\n",
    "    plt.savefig(name)\n",
    "    plt.clf()"
   ]
  },
  {
   "cell_type": "code",
   "execution_count": 7,
   "id": "874bfc03-570d-48af-afcc-c49d11d450d3",
   "metadata": {
    "tags": []
   },
   "outputs": [],
   "source": [
    "def get_charge(path):\n",
    "    df = pd.read_csv(path)\n",
    "    df = get_simulation_data(df)\n",
    "    df = df['discharge']\n",
    "    m, c = get_linear_regresssion(df)\n",
    "    y = m * (df.index) + c\n",
    "    S = np.sqrt(sum((df['sum'] - y) ** 2) / (len(df.time) - 2))\n",
    "    time_mean = np.mean(df.index)\n",
    "    SS = np.sqrt(sum((df.index - time_mean) ** 2))\n",
    "    return m, (S/SS)\n",
    "    "
   ]
  },
  {
   "cell_type": "code",
   "execution_count": 8,
   "id": "bc56fc38-d7dd-4516-a3bf-efb7c897dce1",
   "metadata": {
    "tags": []
   },
   "outputs": [],
   "source": [
    "    # function for generating the discharge curve for the freq, \n",
    "    # receiving the csv path as parameter\n",
    "    def plot_discharge_line_for_freq(freq, path):        \n",
    "        df = pd.read_csv(path)\n",
    "        df = get_simulation_data(df)\n",
    "        df = df['discharge']\n",
    "        m, c = get_linear_regresssion(df)\n",
    "        y = m * (df.index) + c\n",
    "        plot_flux(f'{freq}Discharge.png',df.index, df['sum'], y)"
   ]
  },
  {
   "cell_type": "code",
   "execution_count": 17,
   "id": "bec81c68-ede9-4148-a51e-329cce83076f",
   "metadata": {
    "tags": []
   },
   "outputs": [
    {
     "data": {
      "text/plain": [
       "<Figure size 640x480 with 0 Axes>"
      ]
     },
     "metadata": {},
     "output_type": "display_data"
    }
   ],
   "source": [
    "# Ejercicio 1. \n",
    "def plot_caudal_by_frequency():\n",
    "    path = f\"{BASE_PATH}/\"\n",
    "    frequencies = [5,10, 15, 20, 30, 50]\n",
    "    result = {}\n",
    "    for freq in frequencies: \n",
    "        regex = '*fq'+ str(freq)+'_*_i*.csv'\n",
    "        files = Path(path).glob(regex)\n",
    "        for f in files: \n",
    "            dfs = get_charge(f)\n",
    "            plot_discharge_line_for_freq(freq, f)\n",
    "        result[freq] = dfs\n",
    "    plot_map(\"fluxVsFreq.png\", result, \"Frecuencia\", \"Caudal\", False)\n",
    "\n",
    "plot_caudal_by_frequency()\n"
   ]
  },
  {
   "cell_type": "code",
   "execution_count": 18,
   "id": "5f31db3d-e8a4-477f-835c-dad7957ecf5d",
   "metadata": {
    "tags": []
   },
   "outputs": [],
   "source": [
    "    # function for generating the discharge curve for the gap, \n",
    "    # receiving the csv path as parameter\n",
    "    def plot_discharge_line_for_gap(gap, path):        \n",
    "        df = pd.read_csv(path)\n",
    "        df = get_simulation_data(df)\n",
    "        df = df['discharge']\n",
    "        m, c = get_linear_regresssion(df)\n",
    "        y = m * (df.index) + c\n",
    "        plot_flux(f'{gap}_Discharge.png',df.index, df['sum'], y)"
   ]
  },
  {
   "cell_type": "code",
   "execution_count": 19,
   "id": "6ee24779-d81b-468e-9bcd-db25120504c2",
   "metadata": {
    "tags": []
   },
   "outputs": [
    {
     "data": {
      "text/plain": [
       "<Figure size 640x480 with 0 Axes>"
      ]
     },
     "metadata": {},
     "output_type": "display_data"
    }
   ],
   "source": [
    "# Ej 2. \n",
    "def plot_discharge_line():\n",
    "    base = f\"{BASE_PATH}/\"\n",
    "    gaps = [0.04, 0.05, 0.06]\n",
    "    for gap in gaps: \n",
    "        regex = '*gap'+ str(gap)+'*_i*.csv'\n",
    "        files = Path(base).glob(regex)\n",
    "        path = [f for f in files][0]\n",
    "        plot_discharge_line_for_gap(gap, path)\n",
    "plot_discharge_line()"
   ]
  },
  {
   "cell_type": "code",
   "execution_count": null,
   "id": "8d2886bb-f964-47fd-b4c7-7d5566f90ad8",
   "metadata": {
    "tags": []
   },
   "outputs": [],
   "source": [
    "# generate all the discharge curves  \n",
    "def plot_discharge_line():\n",
    "    base = f\"{BASE_PATH}/\"\n",
    "    frequencies = [5,10, 15, 20, 30, 50]\n",
    "    for freq in frequencies: \n",
    "        regex = '*fq'+ str(freq)+'*_i*.csv'\n",
    "        files = Path(base).glob(regex)\n",
    "        path = [f for f in files][0]\n",
    "        plot_discharge_line_for_freq(freq, path)\n",
    "plot_discharge_line()\n",
    "        "
   ]
  },
  {
   "cell_type": "code",
   "execution_count": 20,
   "id": "a4e0cc84",
   "metadata": {
    "tags": []
   },
   "outputs": [],
   "source": [
    "def get_caudal_by_gap():\n",
    "    path = f\"{BASE_PATH}/\"\n",
    "    gaps = [0.04, 0.05, 0.06]\n",
    "    caudales = []\n",
    "    result = {}\n",
    "    result_map = {}\n",
    "    for gap in gaps: \n",
    "        regex = '*gap'+ str(gap)+'*_i*.csv'\n",
    "        files = Path(path).glob(regex)\n",
    "        caudal = [get_charge(f) for f in files][0]\n",
    "        result_map[gap] = caudal\n",
    "        caudales.append(caudal[0])\n",
    "        \n",
    "    result[\"d\"] = gaps\n",
    "    result[\"q\"] = caudales\n",
    "    \n",
    "        \n",
    "    plot_map(\"fluxVsAncho.png\", result_map, \"Ancho(m)\", \"Caudal\", False)\n",
    "\n",
    "    return result"
   ]
  },
  {
   "cell_type": "code",
   "execution_count": 21,
   "id": "e86ab380-28fb-4e90-b20d-ba2355056412",
   "metadata": {
    "tags": []
   },
   "outputs": [
    {
     "data": {
      "text/plain": [
       "{'d': [0.04, 0.05, 0.06],\n",
       " 'q': [13.544819397301778, 20.021504807776846, 28.13845761293596]}"
      ]
     },
     "execution_count": 21,
     "metadata": {},
     "output_type": "execute_result"
    },
    {
     "data": {
      "text/plain": [
       "<Figure size 640x480 with 0 Axes>"
      ]
     },
     "metadata": {},
     "output_type": "display_data"
    }
   ],
   "source": [
    "get_caudal_by_gap()"
   ]
  },
  {
   "cell_type": "code",
   "execution_count": 22,
   "id": "a3ea9039-f8c7-490d-a123-8a0ad29ab219",
   "metadata": {
    "tags": []
   },
   "outputs": [],
   "source": [
    "# Definir la función lineal\n",
    "def linear_func(d, c):\n",
    "    return d - (0.01)*c\n",
    "\n",
    "def plot_beverloo(points,c):\n",
    "    B = (200 /(0.7 * 0.2)) * np.sqrt(9.81)\n",
    "    r = 0.01\n",
    "    x = np.arange(c*r, 0.07, 0.001)\n",
    "    y = B * ((x-c*r)**1.5)\n",
    "    x_p = [p[0] for p in points]\n",
    "    y_p = [p[1] for p in points]\n",
    "    \n",
    "    plt.plot(x,y, label='Ley de Beverloo')\n",
    "    plt.plot(x_p, y_p, marker='x', linestyle='None',label='Resultados')\n",
    "    plt.xlabel('Ancho(m)')\n",
    "    plt.ylabel('Caudal ')\n",
    "    # plot(points)\n",
    "    plt.legend()\n",
    "    plt.savefig(\"Beverloo.png\")"
   ]
  },
  {
   "cell_type": "code",
   "execution_count": 23,
   "id": "4c21527f-8b42-4584-a01e-2ac7b2262dc2",
   "metadata": {
    "tags": []
   },
   "outputs": [
    {
     "name": "stdout",
     "output_type": "stream",
     "text": [
      "2.2616356694950417\n",
      "[1.90737615 2.28456027 2.59297059]\n"
     ]
    },
    {
     "data": {
      "image/png": "[encoded data removed]",
      "text/plain": [
       "<Figure size 640x480 with 1 Axes>"
      ]
     },
     "metadata": {},
     "output_type": "display_data"
    }
   ],
   "source": [
    "dictio = get_caudal_by_gap()\n",
    "D = dictio[\"d\"]\n",
    "Q = dictio[\"q\"]\n",
    "D = np.array(D) #pasando a centimetros\n",
    "B = (200 /(0.7 * 0.2)) * np.sqrt(9.81)\n",
    "Q_despejado = np.exp((np.log(Q/B))/(1.5))\n",
    "\n",
    "popt, _ = curve_fit(linear_func, D, Q_despejado)\n",
    "b_opt = popt[0] # c que aproxima. \n",
    "print(b_opt)\n",
    "c_despejado = (D - Q_despejado)/(0.01) \n",
    "print(c_despejado)\n",
    "\n",
    "points = []\n",
    "for d,q in zip(D,Q):\n",
    "    points.append((d,q))\n",
    "\n",
    "plot_beverloo(points,b_opt)"
   ]
  },
  {
   "cell_type": "code",
   "execution_count": 16,
   "id": "ebd60977-bdfa-4ecd-b47d-2656d290ba4b",
   "metadata": {
    "tags": []
   },
   "outputs": [],
   "source": [
    "# time_delta = 1\n",
    "# time_bins = np.arange(0, 10, time_delta)\n",
    "\n",
    "# data = []\n",
    "# df_without_index = df.reset_index()\n",
    "# for i in range(0, len(time_bins) - 1):\n",
    "#     lower = time_bins[i]\n",
    "#     upper = time_bins[i + 1]\n",
    "\n",
    "#     particles = df_without_index[(df_without_index['time'] < upper) & (df_without_index['time'] >= lower)]['ball_id'].sum()\n",
    "#     data.append({'time': lower, 'particles': particles})\n",
    "\n",
    "# q_df = pd.DataFrame(data)\n",
    "# q_df.plot(x='time', y='particles')\n",
    "\n",
    "# q_df.mean()"
   ]
  },
  {
   "cell_type": "code",
   "execution_count": 17,
   "id": "745932ad-18f2-4c4d-a46b-2c1070cfc6ad",
   "metadata": {
    "tags": []
   },
   "outputs": [],
   "source": [
    "# rolling_df = df.copy().reset_index()\n",
    "# rolling_df['Timestamp'] = pd.to_datetime(rolling_df['time'], unit='s')\n",
    "# rolling_df.set_index('Timestamp', inplace=True)\n",
    "# rolling_df.rolling(window='1000ms')['ball_id'].sum().plot()"
   ]
  },
  {
   "cell_type": "code",
   "execution_count": null,
   "id": "36d80338-2aa9-4e26-b615-28b684771b08",
   "metadata": {},
   "outputs": [],
   "source": []
  },
  {
   "cell_type": "code",
   "execution_count": null,
   "id": "3c3f1444-c964-4479-b516-ad2665073bf4",
   "metadata": {},
   "outputs": [],
   "source": []
  }
 ],
 "metadata": {
  "kernelspec": {
   "display_name": "Python 3 (ipykernel)",
   "language": "python",
   "name": "python3"
  },
  "language_info": {
   "codemirror_mode": {
    "name": "ipython",
    "version": 3
   },
   "file_extension": ".py",
   "mimetype": "text/x-python",
   "name": "python",
   "nbconvert_exporter": "python",
   "pygments_lexer": "ipython3",
   "version": "3.10.0"
  }
 },
 "nbformat": 4,
 "nbformat_minor": 5
}
