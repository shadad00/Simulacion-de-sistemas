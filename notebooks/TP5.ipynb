{
 "cells": [
  {
   "cell_type": "code",
   "execution_count": 2,
   "id": "3396dc1c-1721-4ce9-b72b-3f21143ef3dc",
   "metadata": {
    "tags": []
   },
   "outputs": [],
   "source": [
    "import pandas as pd\n",
    "import numpy as np\n",
    "import matplotlib.pyplot as plt\n",
    "from pathlib import Path\n",
    "import matplotlib.ticker as ticker\n",
    "from scipy.integrate import simps\n",
    "from scipy.optimize import curve_fit\n",
    "\n",
    "\n",
    "from sklearn.linear_model import LinearRegression"
   ]
  },
  {
   "cell_type": "code",
   "execution_count": 2,
   "id": "a5d464ac-6705-430e-af01-fbe73c9e6e8d",
   "metadata": {
    "tags": []
   },
   "outputs": [],
   "source": [
    "BASE_PATH = '../tp5/out/flux/'"
   ]
  },
  {
   "cell_type": "code",
   "execution_count": 3,
   "id": "3d4c121f-b81a-42c5-baa9-0d6f5bc04d72",
   "metadata": {
    "tags": []
   },
   "outputs": [],
   "source": [
    "def get_linear_regresssion(df):\n",
    "    x = np.array(df.index)\n",
    "    y = np.array(df['sum'])\n",
    "    A = np.vstack([x, np.ones(len(x))]).T\n",
    "    m, c = np.linalg.lstsq(A, y, rcond=None)[0]\n",
    "    return m , c"
   ]
  },
  {
   "cell_type": "code",
   "execution_count": 4,
   "id": "12e28424-a9e0-430d-8ad2-200beea7af7f",
   "metadata": {
    "tags": []
   },
   "outputs": [],
   "source": [
    "def get_simulation_data(df):\n",
    "    time_flux = df.groupby('time').agg({'ball_id':'count'}); \n",
    "    return {\n",
    "        'discharge' : pd.DataFrame({'time': time_flux.index,'sum': time_flux.cumsum()['ball_id']})\n",
    "    }"
   ]
  },
  {
   "cell_type": "code",
   "execution_count": 5,
   "id": "85389514-8731-464b-bbaa-6458ea9763a7",
   "metadata": {
    "tags": []
   },
   "outputs": [],
   "source": [
    "def plot_flux(figure, tiempo, discharge, line, shared_ax, label):\n",
    "    if shared_ax is None:\n",
    "        plt.plot(tiempo, discharge,marker='x', label='Descarga')\n",
    "        plt.plot(tiempo, line, label='Regresión lineal')\n",
    "        plt.xlabel('Tiempo')\n",
    "        plt.ylabel('Cantidad de pelotas')\n",
    "        plt.legend()\n",
    "        plt.savefig(figure)\n",
    "        plt.clf()\n",
    "    else:\n",
    "        # color = next(shared_ax._get_lines.prop_cycler)['color']\n",
    "        shared_ax.plot(tiempo, discharge, label=label, marker='x')\n",
    "        shared_ax.plot(tiempo, line)"
   ]
  },
  {
   "cell_type": "code",
   "execution_count": 6,
   "id": "2f9ba69e-11bf-4e09-815f-b58df2706074",
   "metadata": {
    "tags": []
   },
   "outputs": [],
   "source": [
    "def plot_map(name,plot_map, xlabel, ylabel, log_scale):\n",
    "    x = [position for position in plot_map.keys()]\n",
    "    y = [value[0] for value in plot_map.values()]\n",
    "    errors = [value[1] for value in plot_map.values()]\n",
    "        \n",
    "    plt.errorbar(x, y, yerr=errors, fmt='o', color='black', ecolor='red', capsize=3)\n",
    "    plt.xlabel(xlabel)\n",
    "    plt.ylabel(ylabel)\n",
    "    if log_scale:\n",
    "        plt.yscale(\"log\")\n",
    "    plt.xticks(x)\n",
    "    plt.grid(True)\n",
    "    plt.savefig(name)\n",
    "    plt.clf()"
   ]
  },
  {
   "cell_type": "code",
   "execution_count": 7,
   "id": "874bfc03-570d-48af-afcc-c49d11d450d3",
   "metadata": {
    "tags": []
   },
   "outputs": [],
   "source": [
    "def get_charge(path):\n",
    "    df = pd.read_csv(path)\n",
    "    df = get_simulation_data(df)\n",
    "    df = df['discharge']\n",
    "    m, c = get_linear_regresssion(df)\n",
    "    y = m * (df.index) + c\n",
    "    S = np.sqrt(sum((df['sum'] - y) ** 2) / (len(df.time) - 2))\n",
    "    time_mean = np.mean(df.index)\n",
    "    SS = np.sqrt(sum((df.index - time_mean) ** 2))\n",
    "    return m, (S/SS)\n",
    "    "
   ]
  },
  {
   "cell_type": "code",
   "execution_count": 8,
   "id": "bc56fc38-d7dd-4516-a3bf-efb7c897dce1",
   "metadata": {
    "tags": []
   },
   "outputs": [],
   "source": [
    "    # function for generating the discharge curve for the freq, \n",
    "    # receiving the csv path as parameter\n",
    "    def plot_discharge_line_for_freq(freq, path, shared_ax):        \n",
    "        df = pd.read_csv(path)\n",
    "        df = get_simulation_data(df)\n",
    "        df = df['discharge']\n",
    "        m, c = get_linear_regresssion(df)\n",
    "        y = m * (df.index) + c\n",
    "        plot_flux(f'{freq}Discharge.png',df.index, df['sum'], y, shared_ax, str(freq) + ' Hz')"
   ]
  },
  {
   "cell_type": "code",
   "execution_count": 9,
   "id": "bec81c68-ede9-4148-a51e-329cce83076f",
   "metadata": {
    "tags": []
   },
   "outputs": [
    {
     "name": "stderr",
     "output_type": "stream",
     "text": [
      "No artists with labels found to put in legend.  Note that artists whose label start with an underscore are ignored when legend() is called with no argument.\n"
     ]
    },
    {
     "data": {
      "image/png": "[encoded data removed]",
      "text/plain": [
       "<Figure size 640x480 with 1 Axes>"
      ]
     },
     "metadata": {},
     "output_type": "display_data"
    },
    {
     "data": {
      "text/plain": [
       "<Figure size 640x480 with 0 Axes>"
      ]
     },
     "metadata": {},
     "output_type": "display_data"
    }
   ],
   "source": [
    "# Ejercicio 1. \n",
    "def plot_caudal_by_frequency():\n",
    "    path = f\"{BASE_PATH}/\"\n",
    "    frequencies = [5,10, 15,20, 30,50]\n",
    "    sub_freq = [15, 50]\n",
    "    result = {}\n",
    "    fig, shared_ax = plt.subplots()\n",
    "\n",
    "    for freq in frequencies: \n",
    "        regex = '*fq'+ str(freq)+'_gap0.03_i*.csv'\n",
    "        files = Path(path).glob(regex)\n",
    "        for f in files: \n",
    "            dfs = get_charge(f)\n",
    "            if freq in sub_freq:\n",
    "                plot_discharge_line_for_freq(freq, f, shared_ax)\n",
    "            result[freq] = dfs\n",
    "        \n",
    "    shared_ax.set_xlabel('Tiempo (s)')\n",
    "    shared_ax.set_ylabel('Curva de descarga (particulas)')\n",
    "    shared_ax.legend()\n",
    "    plt.show()\n",
    "    plt.clf()\n",
    "    plot_map(\"fluxVsFreq.png\", result, \"Frecuencia (Hz)\", \"Caudal (Particulas / s)\", False)\n",
    "\n",
    "plot_caudal_by_frequency()"
   ]
  },
  {
   "cell_type": "code",
   "execution_count": 10,
   "id": "5f31db3d-e8a4-477f-835c-dad7957ecf5d",
   "metadata": {
    "tags": []
   },
   "outputs": [],
   "source": [
    "    # function for generating the discharge curve for the gap, \n",
    "    # receiving the csv path as parameter\n",
    "    def plot_discharge_line_for_gap(gap, path, ax):        \n",
    "        df = pd.read_csv(path)\n",
    "        df = get_simulation_data(df)\n",
    "        df = df['discharge']\n",
    "        m, c = get_linear_regresssion(df)\n",
    "        y = m * (df.index) + c\n",
    "        plot_flux(f\"{gap}_Discharge.png\", df.index, df['sum'], y, ax, str(gap) + ' m')"
   ]
  },
  {
   "cell_type": "code",
   "execution_count": 11,
   "id": "6ee24779-d81b-468e-9bcd-db25120504c2",
   "metadata": {
    "tags": []
   },
   "outputs": [
    {
     "ename": "IndexError",
     "evalue": "list index out of range",
     "output_type": "error",
     "traceback": [
      "\u001b[0;31m---------------------------------------------------------------------------\u001b[0m",
      "\u001b[0;31mIndexError\u001b[0m                                Traceback (most recent call last)",
      "Cell \u001b[0;32mIn[11], line 21\u001b[0m\n\u001b[1;32m     18\u001b[0m     plt\u001b[39m.\u001b[39mshow()\n\u001b[1;32m     20\u001b[0m OPTIMAL_FREQ \u001b[39m=\u001b[39m \u001b[39m50\u001b[39m\n\u001b[0;32m---> 21\u001b[0m plot_discharge_line(OPTIMAL_FREQ)\n",
      "Cell \u001b[0;32mIn[11], line 11\u001b[0m, in \u001b[0;36mplot_discharge_line\u001b[0;34m(freq)\u001b[0m\n\u001b[1;32m      9\u001b[0m     regex \u001b[39m=\u001b[39m \u001b[39mf\u001b[39m\u001b[39m\"\u001b[39m\u001b[39m*fq\u001b[39m\u001b[39m{\u001b[39;00mfreq\u001b[39m}\u001b[39;00m\u001b[39m_gap\u001b[39m\u001b[39m\"\u001b[39m\u001b[39m+\u001b[39m \u001b[39mstr\u001b[39m(gap)\u001b[39m+\u001b[39m\u001b[39m'\u001b[39m\u001b[39m*_i*.csv\u001b[39m\u001b[39m'\u001b[39m\n\u001b[1;32m     10\u001b[0m     files \u001b[39m=\u001b[39m Path(base)\u001b[39m.\u001b[39mglob(regex)\n\u001b[0;32m---> 11\u001b[0m     path \u001b[39m=\u001b[39m [f \u001b[39mfor\u001b[39;49;00m f \u001b[39min\u001b[39;49;00m files][\u001b[39m0\u001b[39;49m]\n\u001b[1;32m     12\u001b[0m     plot_discharge_line_for_gap(gap, path, shared_ax)\n\u001b[1;32m     14\u001b[0m shared_ax\u001b[39m.\u001b[39mset_xlabel(\u001b[39m'\u001b[39m\u001b[39mTiempo (s)\u001b[39m\u001b[39m'\u001b[39m)\n",
      "\u001b[0;31mIndexError\u001b[0m: list index out of range"
     ]
    },
    {
     "data": {
      "text/plain": [
       "<Figure size 640x480 with 0 Axes>"
      ]
     },
     "metadata": {},
     "output_type": "display_data"
    },
    {
     "data": {
      "image/png": "[encoded data removed]",
      "text/plain": [
       "<Figure size 640x480 with 1 Axes>"
      ]
     },
     "metadata": {},
     "output_type": "display_data"
    }
   ],
   "source": [
    "# Ej 2. \n",
    "def plot_discharge_line(freq):\n",
    "    base = f\"{BASE_PATH}/\"\n",
    "    gaps = [0.04, 0.05, 0.06]\n",
    "    \n",
    "    plt.clf()\n",
    "    fig, shared_ax = plt.subplots()\n",
    "    for gap in gaps: \n",
    "        regex = f\"*fq{freq}_gap\"+ str(gap)+'*_i*.csv'\n",
    "        files = Path(base).glob(regex)\n",
    "        path = [f for f in files][0]\n",
    "        plot_discharge_line_for_gap(gap, path, shared_ax)\n",
    "        \n",
    "    shared_ax.set_xlabel('Tiempo (s)')\n",
    "    shared_ax.set_ylabel('Curva de descarga (particulas)')\n",
    "    shared_ax.legend()\n",
    "    \n",
    "    plt.show()\n",
    "\n",
    "OPTIMAL_FREQ = 50\n",
    "plot_discharge_line(OPTIMAL_FREQ)"
   ]
  },
  {
   "cell_type": "code",
   "execution_count": null,
   "id": "8d2886bb-f964-47fd-b4c7-7d5566f90ad8",
   "metadata": {
    "tags": []
   },
   "outputs": [],
   "source": [
    "# generate all the discharge curves  \n",
    "def plot_discharge_line():\n",
    "    base = f\"{BASE_PATH}/\"\n",
    "    frequencies = [5,10, 15, 20, 30, 50]\n",
    "    for freq in frequencies: \n",
    "        regex = '*fq'+ str(freq)+'*_i*.csv'\n",
    "        files = Path(base).glob(regex)\n",
    "        path = [f for f in files][0]\n",
    "        plot_discharge_line_for_freq(freq, path, None)\n",
    "\n",
    "plot_discharge_line()"
   ]
  },
  {
   "cell_type": "code",
   "execution_count": null,
   "id": "a4e0cc84",
   "metadata": {
    "tags": []
   },
   "outputs": [],
   "source": [
    "def get_caudal_by_gap(freq):\n",
    "    path = f\"{BASE_PATH}/\"\n",
    "    gaps = [0.04, 0.05, 0.06]\n",
    "    caudales = []\n",
    "    result = {}\n",
    "    result_map = {}\n",
    "    for gap in gaps: \n",
    "        regex = f\"*fq{freq}_gap{gap}*_i*.csv\"\n",
    "\n",
    "        files = Path(path).glob(regex)\n",
    "        caudal = [get_charge(f) for f in files][0]\n",
    "        result_map[gap] = caudal\n",
    "        caudales.append(caudal[0])\n",
    "        \n",
    "    result[\"d\"] = gaps\n",
    "    result[\"q\"] = caudales\n",
    "    \n",
    "        \n",
    "    plot_map(\"fluxVsAncho.png\", result_map, \"Ancho(m)\", \"Caudal (particulas / s)\", False)\n",
    "\n",
    "    return result"
   ]
  },
  {
   "cell_type": "code",
   "execution_count": null,
   "id": "e86ab380-28fb-4e90-b20d-ba2355056412",
   "metadata": {
    "tags": []
   },
   "outputs": [],
   "source": [
    "get_caudal_by_gap(50)"
   ]
  },
  {
   "cell_type": "code",
   "execution_count": null,
   "id": "a3ea9039-f8c7-490d-a123-8a0ad29ab219",
   "metadata": {
    "tags": []
   },
   "outputs": [],
   "source": [
    "def linear_func(d, c):\n",
    "    return d - (0.01) * c\n",
    "\n",
    "def plot_beverloo(points,c):\n",
    "    B = (200 /(0.35 * 0.2)) * np.sqrt(0.05)\n",
    "    r = 0.01\n",
    "    x = np.arange(np.abs(c*r), 0.07, 0.001)\n",
    "    y = B * ((x-c*r)**1.5)\n",
    "    x_p = [p[0] for p in points]\n",
    "    y_p = [p[1] for p in points]\n",
    "    \n",
    "    plt.plot(x,y, label='Ley de Beverloo')\n",
    "    plt.plot(x_p, y_p, marker='x', linestyle='None',label='Resultados')\n",
    "    plt.xlabel('Ancho(m)')\n",
    "    plt.ylabel('Caudal ')\n",
    "    # plot(points)\n",
    "    plt.legend()\n",
    "    plt.savefig(\"Beverloo.png\")"
   ]
  },
  {
   "cell_type": "code",
   "execution_count": null,
   "id": "4c21527f-8b42-4584-a01e-2ac7b2262dc2",
   "metadata": {
    "tags": []
   },
   "outputs": [],
   "source": [
    "dictio = get_caudal_by_gap(50)\n",
    "D = dictio[\"d\"]\n",
    "Q = dictio[\"q\"]\n",
    "D = np.array(D) #pasando a centimetros\n",
    "B = (200 /(0.35 * 0.2)) * np.sqrt(0.05)\n",
    "Q_despejado = np.exp((np.log(Q/B))/(1.5))\n",
    "\n",
    "popt, _ = curve_fit(linear_func, D, Q_despejado)\n",
    "b_opt = popt[0] # c que aproxima. \n",
    "print(b_opt)\n",
    "c_despejado = (D - Q_despejado)/(0.01) \n",
    "print(c_despejado)\n",
    "\n",
    "points = []\n",
    "for d,q in zip(D,Q):\n",
    "    points.append((d,q))\n",
    "\n",
    "plot_beverloo(points, b_opt)"
   ]
  },
  {
   "cell_type": "code",
   "execution_count": null,
   "id": "ebd60977-bdfa-4ecd-b47d-2656d290ba4b",
   "metadata": {
    "tags": []
   },
   "outputs": [],
   "source": [
    "# time_delta = 1\n",
    "# time_bins = np.arange(0, 10, time_delta)\n",
    "\n",
    "# data = []\n",
    "# df_without_index = df.reset_index()\n",
    "# for i in range(0, len(time_bins) - 1):\n",
    "#     lower = time_bins[i]\n",
    "#     upper = time_bins[i + 1]\n",
    "\n",
    "#     particles = df_without_index[(df_without_index['time'] < upper) & (df_without_index['time'] >= lower)]['ball_id'].sum()\n",
    "#     data.append({'time': lower, 'particles': particles})\n",
    "\n",
    "# q_df = pd.DataFrame(data)\n",
    "# q_df.plot(x='time', y='particles')\n",
    "\n",
    "# q_df.mean()"
   ]
  },
  {
   "cell_type": "code",
   "execution_count": null,
   "id": "745932ad-18f2-4c4d-a46b-2c1070cfc6ad",
   "metadata": {
    "tags": []
   },
   "outputs": [],
   "source": [
    "# rolling_df = df.copy().reset_index()\n",
    "# rolling_df['Timestamp'] = pd.to_datetime(rolling_df['time'], unit='s')\n",
    "# rolling_df.set_index('Timestamp', inplace=True)\n",
    "# rolling_df.rolling(window='1000ms')['ball_id'].sum().plot()"
   ]
  },
  {
   "cell_type": "code",
   "execution_count": null,
   "id": "36d80338-2aa9-4e26-b615-28b684771b08",
   "metadata": {},
   "outputs": [],
   "source": []
  },
  {
   "cell_type": "markdown",
   "id": "bb758635-c475-4dd8-9e5a-58b1b2fb111a",
   "metadata": {},
   "source": [
    "## Comparación sin oscilación"
   ]
  },
  {
   "cell_type": "markdown",
   "id": "824dc5df-068c-4374-a9fc-72de57bfcac0",
   "metadata": {
    "tags": []
   },
   "source": [
    "1. Identificar valor de C para Beverloo con sistema no oscilatorio\n",
    "2. Calcular el impacto en el \"d\" efectivo al oscilar el sistema"
   ]
  },
  {
   "cell_type": "code",
   "execution_count": null,
   "id": "748ecefa-98a4-47c7-82f0-bda21b08179c",
   "metadata": {
    "tags": []
   },
   "outputs": [],
   "source": [
    "VOLUME_HEIGHT = 0.25 # meters\n",
    "VOLUME_WIDTH = 0.2 # meters\n",
    "PARTICLES_AMOUNT = 200\n",
    "PARTICLE_AVG_RADIUS = 0.01 # meters\n",
    "GRAVITY = 0.05 # m/s²"
   ]
  },
  {
   "cell_type": "code",
   "execution_count": null,
   "id": "74d0d1cf-defd-49d6-ba1e-96e3663b3a2e",
   "metadata": {
    "tags": []
   },
   "outputs": [],
   "source": [
    "def approximate_beverloo_c(\n",
    "    D: list[float],\n",
    "    Q: list[float],\n",
    "    volume_width=VOLUME_WIDTH,\n",
    "    volume_height=VOLUME_HEIGHT,\n",
    "    particles_amount=PARTICLES_AMOUNT,\n",
    "    particle_avg_radius=PARTICLE_AVG_RADIUS,\n",
    "    gravity=GRAVITY\n",
    "):\n",
    "    D = np.array(D)\n",
    "    total_volume = volume_width * volume_height\n",
    "    B = (particles_amount /(total_volume)) * np.sqrt(gravity)\n",
    "    Q_despejado = np.exp(np.log(Q / B) / 1.5)\n",
    "\n",
    "    popt, _ = curve_fit(linear_func, D, Q_despejado)\n",
    "    b_opt = popt[0]  # c que aproxima.\n",
    "    return b_opt"
   ]
  },
  {
   "cell_type": "code",
   "execution_count": null,
   "id": "3f1d9285-ae74-42f6-9c5b-aed6cb283b37",
   "metadata": {
    "tags": []
   },
   "outputs": [],
   "source": [
    "def beverloo_df(\n",
    "    x,\n",
    "    c,\n",
    "    volume_width=VOLUME_WIDTH,\n",
    "    volume_height=VOLUME_HEIGHT,\n",
    "    particles_amount=PARTICLES_AMOUNT,\n",
    "    particle_avg_radius=PARTICLE_AVG_RADIUS,\n",
    "    gravity=GRAVITY\n",
    "):\n",
    "    total_volume = volume_width * volume_height\n",
    "    B = particles_amount / total_volume * np.sqrt(gravity)\n",
    "    \n",
    "    y = B * ((x - c * particle_avg_radius) ** 1.5)\n",
    "    \n",
    "    return pd.DataFrame({'x': x, 'y': y})"
   ]
  },
  {
   "cell_type": "code",
   "execution_count": null,
   "id": "fd5ba2d2-36fa-44ed-9b30-ff5e199374bb",
   "metadata": {
    "tags": []
   },
   "outputs": [],
   "source": [
    "def plot_beverloo_curve(df, ax, label=\"Ley de Beverloo\"):\n",
    "    # df = df[(df['x'] > 0.037) & (df['x'] < 0.063)].copy()\n",
    "    \n",
    "    ax.plot(df['x'], df['y'], label=label)\n",
    "    \n",
    "def plot_beverloo_experiment_data_points(df, ax, label=\"Resultados\", marker='o'):\n",
    "    x_p = [p[0] for p in df]\n",
    "    y_p = [p[1] for p in df]\n",
    "    \n",
    "    ax.plot(x_p, y_p, marker=marker, linestyle='None', label=label, alpha=1)"
   ]
  },
  {
   "cell_type": "code",
   "execution_count": 13,
   "id": "3c2f5412-2b4e-4cf5-80b0-bf0fa2b8e793",
   "metadata": {
    "tags": []
   },
   "outputs": [],
   "source": [
    "def get_caudal_df(freq: int):\n",
    "    path = f\"{BASE_PATH}/\"\n",
    "    gaps = [0.04, 0.05, 0.06]\n",
    "    caudales = []\n",
    "    errors = []\n",
    "    result_map = {}\n",
    "    \n",
    "    for gap in gaps: \n",
    "        regex = f\"*fq{freq}_gap{gap}*_i*.csv\"\n",
    "        files = Path(path).glob(regex)\n",
    "        caudal = [get_charge(f) for f in files][0]\n",
    "        result_map[gap] = caudal\n",
    "        caudales.append(caudal[0])\n",
    "        errors.append(caudal[1])\n",
    "\n",
    "    return {\"d\": gaps, \"q\": caudales, \"error\":errors}"
   ]
  },
  {
   "cell_type": "code",
   "execution_count": null,
   "id": "6efc262d-e7b6-40b9-92e6-8a978f41d359",
   "metadata": {
    "tags": []
   },
   "outputs": [],
   "source": [
    "optimal_freq_data = get_caudal_df(freq=50)\n",
    "print(optimal_freq_data)\n",
    "c = approximate_beverloo_c(optimal_freq_data['d'], optimal_freq_data['q'])\n",
    "print(f\"Fitted c: {c}\")\n",
    "\n",
    "x = np.arange(np.abs(c * PARTICLE_AVG_RADIUS), 0.07, 0.001)\n",
    "\n",
    "beverloo = beverloo_df(x, c)\n",
    "\n",
    "fig, ax = plt.subplots()\n",
    "\n",
    "plot_beverloo_curve(beverloo, ax, \"Beverloo freq. óptima\")\n",
    "plot_beverloo_experiment_data_points([x for x in zip(D, Q)], ax, \"Resultados freq. óptima\", '+')\n",
    "\n",
    "ax.legend()\n",
    "ax.set_xlabel('Ancho (m)')\n",
    "ax.set_ylabel('Caudal (partículas / s)')\n",
    "\n",
    "# plt.show()"
   ]
  },
  {
   "cell_type": "raw",
   "id": "fcf78e3e-b712-455b-b65f-90b8880ccb5c",
   "metadata": {
    "tags": []
   },
   "source": [
    "no_oscilation_data = get_caudal_df(freq=0)\n",
    "print(no_oscilation_data)\n",
    "no_oscilation_d = no_oscilation_data['d']\n",
    "no_oscilation_q = no_oscilation_data['q']\n",
    "no_oscilation_e = no_oscilation_data['error']\n",
    "no_oscilation_c = approximate_beverloo_c(no_oscilation_d, no_oscilation_q)\n",
    "\n",
    "print(f\"Fitted c: {no_oscilation_c}\")\n",
    "\n",
    "x = np.arange(np.abs(no_oscilation_c * PARTICLE_AVG_RADIUS), 0.07, 0.001)\n",
    "\n",
    "beverloo = beverloo_df(x, no_oscilation_c)\n",
    "\n",
    "plot_beverloo_curve(beverloo, ax, \"Beverloo sin osc.\")\n",
    "plot_beverloo_experiment_data_points([x for x in zip(no_oscilation_d, no_oscilation_q)], ax, \"Resultados sin osc.\", 'x')\n",
    "\n",
    "ax.legend()\n",
    "\n",
    "fig"
   ]
  },
  {
   "cell_type": "code",
   "execution_count": null,
   "id": "e80fbe31-53f4-414b-b4c3-8a784bffec59",
   "metadata": {
    "tags": []
   },
   "outputs": [],
   "source": [
    "no_oscilation_data = get_caudal_df(freq=0)\n",
    "print(no_oscilation_data)\n",
    "no_oscilation_d = no_oscilation_data['d']\n",
    "no_oscilation_q = no_oscilation_data['q']\n",
    "no_oscilation_e = no_oscilation_data['error']\n",
    "no_oscilation_c = approximate_beverloo_c(no_oscilation_d, no_oscilation_q)\n",
    "\n",
    "print(f\"Fitted c: {no_oscilation_c}\")\n",
    "\n",
    "x = np.arange(np.abs(no_oscilation_c * PARTICLE_AVG_RADIUS), 0.07, 0.001)\n",
    "\n",
    "beverloo = beverloo_df(x, no_oscilation_c)\n",
    "\n",
    "plot_beverloo_curve(beverloo, ax, \"Beverloo sin osc.\")\n",
    "plot_beverloo_experiment_data_points([x for x in zip(no_oscilation_d, no_oscilation_q)], ax, \"Resultados sin osc.\", 'x')\n",
    "\n",
    "ax.legend()\n",
    "\n",
    "fig"
   ]
  },
  {
   "cell_type": "code",
   "execution_count": null,
   "id": "7ee25344-6f3c-4328-8792-b16b3b206767",
   "metadata": {
    "tags": []
   },
   "outputs": [],
   "source": [
    "plt.clf()"
   ]
  },
  {
   "cell_type": "code",
   "execution_count": null,
   "id": "2bf89004-f639-4924-9807-c08e635c7827",
   "metadata": {
    "tags": []
   },
   "outputs": [],
   "source": [
    "comparison_c_df = pd.DataFrame({'x': optimal_freq_data['d'], 'osc_y': optimal_freq_data['q'], 'no_osc_y': no_oscilation_q})\n",
    "comparison_c_df['y_ratio'] = (comparison_c_df['osc_y']) / comparison_c_df['no_osc_y']\n",
    "# comparison_c_df['error'] = (comparison_c_df['y_ratio']) * np.sqrt(((optimal_freq_data['q'] /optimal_freq_data['error'] )**2)\n",
    "#                                                                   + ((no_oscilation_data['q'] / no_oscilation_data['error'])**2))\n",
    "print(optimal_freq_data)\n",
    "\n",
    "\n",
    "comparison_c_df['error'] = comparison_c_df['y_ratio'] * np.sqrt((optimal_freq_data['error'] / comparison_c_df['osc_y'])**2\n",
    "                                                                 + ( no_oscilation_e / comparison_c_df['no_osc_y'] )**2)\n",
    "\n",
    "print(comparison_c_df)\n",
    "\n",
    "\n",
    "result = {x: (y_ratio, error) for x, y_ratio, error in zip(comparison_c_df['x'], comparison_c_df['y_ratio'], comparison_c_df['error'])}\n",
    "print(result)\n",
    "\n",
    "plot_map(\"ganancia.png\",result, 'Ancho (m)', '%Ganancia actual', False)\n",
    "\n",
    "plt.bar(x=comparison_c_df['x'], width=0.005, height=comparison_c_df['y_ratio'])\n",
    "plt.xlabel('Ancho (m)')\n",
    "plt.ylabel('% Ganancia caudal')\n",
    "\n",
    "print(comparison_c_df)"
   ]
  },
  {
   "cell_type": "code",
   "execution_count": null,
   "id": "3088f6dd-3f15-4b02-ab90-de71bec6efc0",
   "metadata": {
    "tags": []
   },
   "outputs": [],
   "source": [
    "data = [[0, no_oscilation_c], [10, no_oscilation_c]]\n",
    "c_df = pd.DataFrame({'x': [0, 10], 'y': [no_oscilation_c, c]})\n",
    "plt.scatter(x=c_df['x'], y=c_df['y'])\n",
    "plt.xlabel('Frecuencia (Hz)')\n",
    "plt.ylabel('c')"
   ]
  },
  {
   "cell_type": "markdown",
   "id": "91402906",
   "metadata": {},
   "source": [
    "## Curva de error"
   ]
  },
  {
   "cell_type": "code",
   "execution_count": 9,
   "id": "ccfbc632",
   "metadata": {},
   "outputs": [
    {
     "name": "stdout",
     "output_type": "stream",
     "text": [
      "beverloo points for c = 0.0\n",
      "[ 8.49705831 11.875      15.61009289]\n",
      "0.0 approximates with error 57.10514950266523\n",
      "beverloo points for c = 0.05102040816326531\n",
      "[ 8.33500656 11.69370426 15.41140844]\n",
      "0.05102040816326531 approximates with error 52.47265929909513\n",
      "beverloo points for c = 0.10204081632653061\n",
      "[ 8.17399829 11.51334065 15.21357416]\n",
      "0.10204081632653061 approximates with error 48.05960731296858\n",
      "beverloo points for c = 0.15306122448979592\n",
      "[ 8.01404033 11.33391399 15.01659373]\n",
      "0.15306122448979592 approximates with error 43.86308086520657\n",
      "beverloo points for c = 0.20408163265306123\n",
      "[ 7.85513961 11.15542922 14.82047086]\n",
      "0.20408163265306123 approximates with error 39.880163835213054\n",
      "beverloo points for c = 0.25510204081632654\n",
      "[ 7.69730321 10.97789133 14.62520932]\n",
      "0.25510204081632654 approximates with error 36.1079365657138\n",
      "beverloo points for c = 0.30612244897959184\n",
      "[ 7.54053837 10.8013054  14.43081292]\n",
      "0.30612244897959184 approximates with error 32.54347576376086\n",
      "beverloo points for c = 0.35714285714285715\n",
      "[ 7.38485245 10.62567659 14.23728554]\n",
      "0.35714285714285715 approximates with error 29.183854397695434\n",
      "beverloo points for c = 0.40816326530612246\n",
      "[ 7.23025299 10.45101014 14.04463109]\n",
      "0.40816326530612246 approximates with error 26.026141589848873\n",
      "beverloo points for c = 0.45918367346938777\n",
      "[ 7.07674767 10.27731138 13.85285354]\n",
      "0.45918367346938777 approximates with error 23.067402504745317\n",
      "beverloo points for c = 0.5102040816326531\n",
      "[ 6.92434435 10.10458573 13.66195693]\n",
      "0.5102040816326531 approximates with error 20.30469823255342\n",
      "beverloo points for c = 0.5612244897959184\n",
      "[ 6.77305106  9.93283872 13.47194533]\n",
      "0.5612244897959184 approximates with error 17.73508566751596\n",
      "beverloo points for c = 0.6122448979591837\n",
      "[ 6.622876    9.76207594 13.28282289]\n",
      "0.6122448979591837 approximates with error 15.355617381067121\n",
      "beverloo points for c = 0.6632653061224489\n",
      "[ 6.47382756  9.5923031  13.09459382]\n",
      "0.6632653061224489 approximates with error 13.16334148932577\n",
      "beverloo points for c = 0.7142857142857143\n",
      "[ 6.32591433  9.42352602 12.90726236]\n",
      "0.7142857142857143 approximates with error 11.155301514628604\n",
      "beverloo points for c = 0.7653061224489797\n",
      "[ 6.17914507  9.25575059 12.72083285]\n",
      "0.7653061224489797 approximates with error 9.328536240743762\n",
      "beverloo points for c = 0.8163265306122449\n",
      "[ 6.03352879  9.08898284 12.53530966]\n",
      "0.8163265306122449 approximates with error 7.680079561374957\n",
      "beverloo points for c = 0.8673469387755102\n",
      "[ 5.88907468  8.92322889 12.35069724]\n",
      "0.8673469387755102 approximates with error 6.206960321538226\n",
      "beverloo points for c = 0.9183673469387755\n",
      "[ 5.74579216  8.75849498 12.16700012]\n",
      "0.9183673469387755 approximates with error 4.906202151357889\n",
      "beverloo points for c = 0.9693877551020409\n",
      "[ 5.60369091  8.59478746 11.98422288]\n",
      "0.9693877551020409 approximates with error 3.774823291793019\n",
      "beverloo points for c = 1.0204081632653061\n",
      "[ 5.46278081  8.43211282 11.80237016]\n",
      "1.0204081632653061 approximates with error 2.8098364117644343\n",
      "beverloo points for c = 1.0714285714285714\n",
      "[ 5.32307204  8.27047765 11.62144669]\n",
      "1.0714285714285714 approximates with error 2.0082484161080156\n",
      "beverloo points for c = 1.1224489795918369\n",
      "[ 5.18457499  8.10988868 11.44145727]\n",
      "1.1224489795918369 approximates with error 1.3670602437312285\n",
      "beverloo points for c = 1.1734693877551021\n",
      "[ 5.04730038  7.95035278 11.26240678]\n",
      "1.1734693877551021 approximates with error 0.8832666552948556\n",
      "beverloo points for c = 1.2244897959183674\n",
      "[ 4.91125919  7.79187693 11.08430016]\n",
      "1.2244897959183674 approximates with error 0.5538560096822678\n",
      "beverloo points for c = 1.2755102040816326\n",
      "[ 4.7764627   7.63446828 10.90714244]\n",
      "1.2755102040816326 approximates with error 0.3758100284515368\n",
      "beverloo points for c = 1.3265306122448979\n",
      "[ 4.64292251  7.47813411 10.73093873]\n",
      "1.3265306122448979 approximates with error 0.34610354739153404\n",
      "beverloo points for c = 1.3775510204081634\n",
      "[ 4.51065056  7.32288186 10.55569423]\n",
      "1.3775510204081634 approximates with error 0.46170425422033895\n",
      "beverloo points for c = 1.4285714285714286\n",
      "[ 4.37965912  7.16871912 10.38141421]\n",
      "1.4285714285714286 approximates with error 0.7195724113720817\n",
      "beverloo points for c = 1.4795918367346939\n",
      "[ 4.24996084  7.01565365 10.20810404]\n",
      "1.4795918367346939 approximates with error 1.116660562714873\n",
      "beverloo points for c = 1.5306122448979593\n",
      "[ 4.12156874  6.86369337 10.03576918]\n",
      "1.5306122448979593 approximates with error 1.6499132229267184\n",
      "beverloo points for c = 1.5816326530612246\n",
      "[3.99449625 6.71284638 9.86441518]\n",
      "1.5816326530612246 approximates with error 2.3162665481258733\n",
      "beverloo points for c = 1.6326530612244898\n",
      "[3.86875721 6.56312095 9.69404769]\n",
      "1.6326530612244898 approximates with error 3.112647986205534\n",
      "beverloo points for c = 1.683673469387755\n",
      "[3.74436592 6.41452556 9.52467245]\n",
      "1.683673469387755 approximates with error 4.035975905156721\n",
      "beverloo points for c = 1.7346938775510203\n",
      "[3.62133715 6.26706885 9.35629531]\n",
      "1.7346938775510203 approximates with error 5.083159197475341\n",
      "beverloo points for c = 1.7857142857142858\n",
      "[3.49968615 6.12075969 9.18892223]\n",
      "1.7857142857142858 approximates with error 6.251096858536113\n",
      "beverloo points for c = 1.836734693877551\n",
      "[3.37942871 5.97560716 9.02255925]\n",
      "1.836734693877551 approximates with error 7.536677536572637\n",
      "beverloo points for c = 1.8877551020408163\n",
      "[3.26058117 5.83162054 8.85721256]\n",
      "1.8877551020408163 approximates with error 8.936779051625253\n",
      "beverloo points for c = 1.9387755102040818\n",
      "[3.14316046 5.68880936 8.69288844]\n",
      "1.9387755102040818 approximates with error 10.448267880499094\n",
      "beverloo points for c = 1.989795918367347\n",
      "[3.02718413 5.54718337 8.5295933 ]\n",
      "1.989795918367347 approximates with error 12.067998604408842\n",
      "beverloo points for c = 2.0408163265306123\n",
      "[2.91267039 5.40675257 8.36733364]\n",
      "2.0408163265306123 approximates with error 13.792813315562919\n",
      "beverloo points for c = 2.0918367346938775\n",
      "[2.79963818 5.26752722 8.20611614]\n",
      "2.0918367346938775 approximates with error 15.619540978449322\n",
      "beverloo points for c = 2.142857142857143\n",
      "[2.68810718 5.12951785 8.04594757]\n",
      "2.142857142857143 approximates with error 17.544996741015225\n",
      "beverloo points for c = 2.193877551020408\n",
      "[2.57809786 4.99273527 7.88683483]\n",
      "2.193877551020408 approximates with error 19.565981190265198\n",
      "beverloo points for c = 2.2448979591836737\n",
      "[2.46963157 4.85719058 7.728785  ]\n",
      "2.2448979591836737 approximates with error 21.67927954602172\n",
      "beverloo points for c = 2.295918367346939\n",
      "[2.36273059 4.7228952  7.57180526]\n",
      "2.295918367346939 approximates with error 23.881660785669258\n",
      "beverloo points for c = 2.3469387755102042\n",
      "[2.25741819 4.58986086 7.41590296]\n",
      "2.3469387755102042 approximates with error 26.169876691612828\n",
      "beverloo points for c = 2.3979591836734695\n",
      "[2.15371869 4.45809962 7.2610856 ]\n",
      "2.3979591836734695 approximates with error 28.540660811881498\n",
      "beverloo points for c = 2.4489795918367347\n",
      "[2.05165759 4.32762391 7.10736083]\n",
      "2.4489795918367347 approximates with error 30.990727322754406\n",
      "beverloo points for c = 2.5\n",
      "[1.95126161 4.19844651 6.95473647]\n",
      "2.5 approximates with error 33.51676978041405\n"
     ]
    },
    {
     "data": {
      "text/plain": [
       "(1.3265306122448979, 0.34610354739153404)"
      ]
     },
     "execution_count": 9,
     "metadata": {},
     "output_type": "execute_result"
    },
    {
     "data": {
      "image/png": "[encoded data removed]",
      "text/plain": [
       "<Figure size 640x480 with 1 Axes>"
      ]
     },
     "metadata": {},
     "output_type": "display_data"
    }
   ],
   "source": [
    "GAPS = np.array([0.04, 0.05, 0.06])\n",
    "N_PARTICLES = 190\n",
    "VOL_HEIGHT = 0.2\n",
    "\n",
    "def beverloo_function(c, gaps=GAPS):\n",
    "    B = (N_PARTICLES /(VOL_HEIGHT * 0.2)) * np.sqrt(0.05)\n",
    "    r = 0.01\n",
    "    y = B * ((gaps-c*r)**1.5)\n",
    "    print(f\"beverloo points for c = {c}\")\n",
    "    print(y)\n",
    "    return y\n",
    "\n",
    "def plot_error_curve(c_range, errors):\n",
    "    fig, ax = plt.subplots()\n",
    "    ax.plot(c_range, errors, marker='x')\n",
    "    ax.set_ylabel(\"Error\")\n",
    "    ax.set_xlabel(\"Coeficiente\")\n",
    "    fig.savefig(\"curva_de_error.png\")\n",
    "\n",
    "def calculate_error(y_experiment, y_regression):\n",
    "    return np.sum((y_experiment - y_regression) ** 2)\n",
    "\n",
    "def get_error_curve(y_experiment, gaps = GAPS):\n",
    "    c_range = np.linspace(0., 2.5, 50)\n",
    "    errors = []\n",
    "    for c_i in c_range: \n",
    "        y_reg = beverloo_function(c_i)\n",
    "        error = calculate_error(y_experiment, y_reg)\n",
    "        print(f\"{c_i} approximates with error {error}\")\n",
    "        errors.append(error)\n",
    "\n",
    "    idx_min = np.argmin(errors)\n",
    "    c_optimo = c_range[idx_min]\n",
    "    error_minimo = errors[idx_min]\n",
    "\n",
    "    plot_error_curve(c_range, errors)\n",
    "\n",
    "    return c_optimo, error_minimo\n",
    "\n",
    "# df = get_caudal_df(15)\n",
    "# y_sim = df[\"q\"]\n",
    "y_sim = [4.5, 8, 10.5]\n",
    "c_optimo, error_minimo = get_error_curve(y_sim)\n",
    "c_optimo, error_minimo\n"
   ]
  },
  {
   "cell_type": "code",
   "execution_count": null,
   "id": "27ffd7d3",
   "metadata": {},
   "outputs": [],
   "source": []
  }
 ],
 "metadata": {
  "kernelspec": {
   "display_name": "Python 3 (ipykernel)",
   "language": "python",
   "name": "python3"
  },
  "language_info": {
   "codemirror_mode": {
    "name": "ipython",
    "version": 3
   },
   "file_extension": ".py",
   "mimetype": "text/x-python",
   "name": "python",
   "nbconvert_exporter": "python",
   "pygments_lexer": "ipython3",
   "version": "3.11.4"
  }
 },
 "nbformat": 4,
 "nbformat_minor": 5
}
