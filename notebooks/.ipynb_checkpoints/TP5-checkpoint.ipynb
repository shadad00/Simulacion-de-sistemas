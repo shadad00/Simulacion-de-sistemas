{
 "cells": [
  {
   "cell_type": "code",
   "execution_count": 1,
   "id": "3396dc1c-1721-4ce9-b72b-3f21143ef3dc",
   "metadata": {
    "tags": []
   },
   "outputs": [],
   "source": [
    "import pandas as pd\n",
    "import numpy as np\n",
    "import matplotlib.pyplot as plt\n",
    "from pathlib import Path\n",
    "import matplotlib.ticker as ticker\n",
    "from scipy.integrate import simps\n",
    "from scipy.optimize import curve_fit\n",
    "\n",
    "\n",
    "from sklearn.linear_model import LinearRegression"
   ]
  },
  {
   "cell_type": "code",
   "execution_count": 2,
   "id": "a5d464ac-6705-430e-af01-fbe73c9e6e8d",
   "metadata": {
    "tags": []
   },
   "outputs": [],
   "source": [
    "BASE_PATH = '../tp5/out/flux/'"
   ]
  },
  {
   "cell_type": "code",
   "execution_count": 3,
   "id": "3d4c121f-b81a-42c5-baa9-0d6f5bc04d72",
   "metadata": {
    "tags": []
   },
   "outputs": [],
   "source": [
    "def get_linear_regresssion(df):\n",
    "    x = np.array(df.index)\n",
    "    y = np.array(df['sum'])\n",
    "    A = np.vstack([x, np.ones(len(x))]).T\n",
    "    m, c = np.linalg.lstsq(A, y, rcond=None)[0]\n",
    "    return m , c"
   ]
  },
  {
   "cell_type": "code",
   "execution_count": 4,
   "id": "12e28424-a9e0-430d-8ad2-200beea7af7f",
   "metadata": {
    "tags": []
   },
   "outputs": [],
   "source": [
    "def get_simulation_data(df):\n",
    "    time_flux = df.groupby('time').agg({'ball_id':'count'}); \n",
    "    return {\n",
    "        'discharge' : pd.DataFrame({'time': time_flux.index,'sum': time_flux.cumsum()['ball_id']})\n",
    "    }"
   ]
  },
  {
   "cell_type": "code",
   "execution_count": 5,
   "id": "85389514-8731-464b-bbaa-6458ea9763a7",
   "metadata": {
    "tags": []
   },
   "outputs": [],
   "source": [
    "def plot_flux(figure, tiempo, discharge, line, shared_ax, label):\n",
    "    if shared_ax is None:\n",
    "        plt.plot(tiempo, discharge,marker='x', label='Descarga')\n",
    "        plt.plot(tiempo, line, label='Regresión lineal')\n",
    "        plt.xlabel('Tiempo')\n",
    "        plt.ylabel('Cantidad de pelotas')\n",
    "        plt.legend()\n",
    "        plt.savefig(figure)\n",
    "        plt.clf()\n",
    "    else:\n",
    "        # color = next(shared_ax._get_lines.prop_cycler)['color']\n",
    "        shared_ax.plot(tiempo, discharge, label=label, marker='x')\n",
    "        shared_ax.plot(tiempo, line)"
   ]
  },
  {
   "cell_type": "code",
   "execution_count": 6,
   "id": "2f9ba69e-11bf-4e09-815f-b58df2706074",
   "metadata": {
    "tags": []
   },
   "outputs": [],
   "source": [
    "def plot_map(name,plot_map, xlabel, ylabel, log_scale):\n",
    "    x = [position for position in plot_map.keys()]\n",
    "    y = [value[0] for value in plot_map.values()]\n",
    "    errors = [value[1] for value in plot_map.values()]\n",
    "        \n",
    "    plt.errorbar(x, y, yerr=errors, fmt='o', color='black', ecolor='red', capsize=3)\n",
    "    plt.xlabel(xlabel)\n",
    "    plt.ylabel(ylabel)\n",
    "    if log_scale:\n",
    "        plt.yscale(\"log\")\n",
    "    plt.xticks(x)\n",
    "    plt.grid(True)\n",
    "    plt.savefig(name)\n",
    "    plt.clf()"
   ]
  },
  {
   "cell_type": "code",
   "execution_count": 22,
   "id": "874bfc03-570d-48af-afcc-c49d11d450d3",
   "metadata": {
    "tags": []
   },
   "outputs": [],
   "source": [
    "def get_charge(path):\n",
    "    df = pd.read_csv(path)\n",
    "    df = get_simulation_data(df)\n",
    "    df = df['discharge']\n",
    "    m, c = get_linear_regresssion(df)\n",
    "    y = m * (df.index) + c\n",
    "    S = np.sqrt(sum((df['sum'] - y) ** 2) / (len(df.time) - 2))\n",
    "    time_mean = np.mean(df.index)\n",
    "    SS = np.sqrt(sum((df.index - time_mean) ** 2))\n",
    "    return m, (S/SS)\n",
    "    "
   ]
  },
  {
   "cell_type": "code",
   "execution_count": 8,
   "id": "bc56fc38-d7dd-4516-a3bf-efb7c897dce1",
   "metadata": {
    "tags": []
   },
   "outputs": [],
   "source": [
    "    # function for generating the discharge curve for the freq, \n",
    "    # receiving the csv path as parameter\n",
    "    def plot_discharge_line_for_freq(freq, path, shared_ax):        \n",
    "        df = pd.read_csv(path)\n",
    "        df = get_simulation_data(df)\n",
    "        df = df['discharge']\n",
    "        m, c = get_linear_regresssion(df)\n",
    "        y = m * (df.index) + c\n",
    "        plot_flux(f'{freq}Discharge.png',df.index, df['sum'], y, shared_ax, str(freq) + ' Hz')"
   ]
  },
  {
   "cell_type": "code",
   "execution_count": 9,
   "id": "bec81c68-ede9-4148-a51e-329cce83076f",
   "metadata": {
    "tags": []
   },
   "outputs": [
    {
     "name": "stderr",
     "output_type": "stream",
     "text": [
      "No artists with labels found to put in legend.  Note that artists whose label start with an underscore are ignored when legend() is called with no argument.\n"
     ]
    },
    {
     "data": {
      "image/png": "[encoded data removed]",
      "text/plain": [
       "<Figure size 640x480 with 1 Axes>"
      ]
     },
     "metadata": {},
     "output_type": "display_data"
    },
    {
     "data": {
      "text/plain": [
       "<Figure size 640x480 with 0 Axes>"
      ]
     },
     "metadata": {},
     "output_type": "display_data"
    }
   ],
   "source": [
    "# Ejercicio 1. \n",
    "def plot_caudal_by_frequency():\n",
    "    path = f\"{BASE_PATH}/\"\n",
    "    frequencies = [5,10, 15,20, 30,50]\n",
    "    sub_freq = [15, 50]\n",
    "    result = {}\n",
    "    fig, shared_ax = plt.subplots()\n",
    "\n",
    "    for freq in frequencies: \n",
    "        regex = '*fq'+ str(freq)+'_gap0.03_i*.csv'\n",
    "        files = Path(path).glob(regex)\n",
    "        for f in files: \n",
    "            dfs = get_charge(f)\n",
    "            if freq in sub_freq:\n",
    "                plot_discharge_line_for_freq(freq, f, shared_ax)\n",
    "            result[freq] = dfs\n",
    "        \n",
    "    shared_ax.set_xlabel('Tiempo (s)')\n",
    "    shared_ax.set_ylabel('Curva de descarga (particulas)')\n",
    "    shared_ax.legend()\n",
    "    plt.show()\n",
    "    plt.clf()\n",
    "    plot_map(\"fluxVsFreq.png\", result, \"Frecuencia (Hz)\", \"Caudal (Particulas / s)\", False)\n",
    "\n",
    "plot_caudal_by_frequency()"
   ]
  },
  {
   "cell_type": "code",
   "execution_count": 10,
   "id": "5f31db3d-e8a4-477f-835c-dad7957ecf5d",
   "metadata": {
    "tags": []
   },
   "outputs": [],
   "source": [
    "    # function for generating the discharge curve for the gap, \n",
    "    # receiving the csv path as parameter\n",
    "    def plot_discharge_line_for_gap(gap, path, ax):        \n",
    "        df = pd.read_csv(path)\n",
    "        df = get_simulation_data(df)\n",
    "        df = df['discharge']\n",
    "        m, c = get_linear_regresssion(df)\n",
    "        y = m * (df.index) + c\n",
    "        plot_flux(f\"{gap}_Discharge.png\", df.index, df['sum'], y, ax, str(gap) + ' m')"
   ]
  },
  {
   "cell_type": "code",
   "execution_count": 11,
   "id": "6ee24779-d81b-468e-9bcd-db25120504c2",
   "metadata": {
    "tags": []
   },
   "outputs": [
    {
     "ename": "IndexError",
     "evalue": "list index out of range",
     "output_type": "error",
     "traceback": [
      "\u001b[0;31m---------------------------------------------------------------------------\u001b[0m",
      "\u001b[0;31mIndexError\u001b[0m                                Traceback (most recent call last)",
      "Cell \u001b[0;32mIn[11], line 21\u001b[0m\n\u001b[1;32m     18\u001b[0m     plt\u001b[38;5;241m.\u001b[39mshow()\n\u001b[1;32m     20\u001b[0m OPTIMAL_FREQ \u001b[38;5;241m=\u001b[39m \u001b[38;5;241m50\u001b[39m\n\u001b[0;32m---> 21\u001b[0m \u001b[43mplot_discharge_line\u001b[49m\u001b[43m(\u001b[49m\u001b[43mOPTIMAL_FREQ\u001b[49m\u001b[43m)\u001b[49m\n",
      "Cell \u001b[0;32mIn[11], line 11\u001b[0m, in \u001b[0;36mplot_discharge_line\u001b[0;34m(freq)\u001b[0m\n\u001b[1;32m      9\u001b[0m     regex \u001b[38;5;241m=\u001b[39m \u001b[38;5;124mf\u001b[39m\u001b[38;5;124m\"\u001b[39m\u001b[38;5;124m*fq\u001b[39m\u001b[38;5;132;01m{\u001b[39;00mfreq\u001b[38;5;132;01m}\u001b[39;00m\u001b[38;5;124m_gap\u001b[39m\u001b[38;5;124m\"\u001b[39m\u001b[38;5;241m+\u001b[39m \u001b[38;5;28mstr\u001b[39m(gap)\u001b[38;5;241m+\u001b[39m\u001b[38;5;124m'\u001b[39m\u001b[38;5;124m*_i*.csv\u001b[39m\u001b[38;5;124m'\u001b[39m\n\u001b[1;32m     10\u001b[0m     files \u001b[38;5;241m=\u001b[39m Path(base)\u001b[38;5;241m.\u001b[39mglob(regex)\n\u001b[0;32m---> 11\u001b[0m     path \u001b[38;5;241m=\u001b[39m \u001b[43m[\u001b[49m\u001b[43mf\u001b[49m\u001b[43m \u001b[49m\u001b[38;5;28;43;01mfor\u001b[39;49;00m\u001b[43m \u001b[49m\u001b[43mf\u001b[49m\u001b[43m \u001b[49m\u001b[38;5;129;43;01min\u001b[39;49;00m\u001b[43m \u001b[49m\u001b[43mfiles\u001b[49m\u001b[43m]\u001b[49m\u001b[43m[\u001b[49m\u001b[38;5;241;43m0\u001b[39;49m\u001b[43m]\u001b[49m\n\u001b[1;32m     12\u001b[0m     plot_discharge_line_for_gap(gap, path, shared_ax)\n\u001b[1;32m     14\u001b[0m shared_ax\u001b[38;5;241m.\u001b[39mset_xlabel(\u001b[38;5;124m'\u001b[39m\u001b[38;5;124mTiempo (s)\u001b[39m\u001b[38;5;124m'\u001b[39m)\n",
      "\u001b[0;31mIndexError\u001b[0m: list index out of range"
     ]
    },
    {
     "data": {
      "text/plain": [
       "<Figure size 640x480 with 0 Axes>"
      ]
     },
     "metadata": {},
     "output_type": "display_data"
    },
    {
     "data": {
      "image/png": "[encoded data removed]",
      "text/plain": [
       "<Figure size 640x480 with 1 Axes>"
      ]
     },
     "metadata": {},
     "output_type": "display_data"
    }
   ],
   "source": [
    "# Ej 2. \n",
    "def plot_discharge_line(freq):\n",
    "    base = f\"{BASE_PATH}/\"\n",
    "    gaps = [0.04, 0.05, 0.06]\n",
    "    \n",
    "    plt.clf()\n",
    "    fig, shared_ax = plt.subplots()\n",
    "    for gap in gaps: \n",
    "        regex = f\"*fq{freq}_gap\"+ str(gap)+'*_i*.csv'\n",
    "        files = Path(base).glob(regex)\n",
    "        path = [f for f in files][0]\n",
    "        plot_discharge_line_for_gap(gap, path, shared_ax)\n",
    "        \n",
    "    shared_ax.set_xlabel('Tiempo (s)')\n",
    "    shared_ax.set_ylabel('Curva de descarga (particulas)')\n",
    "    shared_ax.legend()\n",
    "    \n",
    "    plt.show()\n",
    "\n",
    "OPTIMAL_FREQ = 50\n",
    "plot_discharge_line(OPTIMAL_FREQ)"
   ]
  },
  {
   "cell_type": "code",
   "execution_count": 13,
   "id": "8d2886bb-f964-47fd-b4c7-7d5566f90ad8",
   "metadata": {
    "tags": []
   },
   "outputs": [
    {
     "ename": "IndexError",
     "evalue": "list index out of range",
     "output_type": "error",
     "traceback": [
      "\u001b[0;31m---------------------------------------------------------------------------\u001b[0m",
      "\u001b[0;31mIndexError\u001b[0m                                Traceback (most recent call last)",
      "Cell \u001b[0;32mIn[13], line 11\u001b[0m\n\u001b[1;32m      8\u001b[0m         path \u001b[38;5;241m=\u001b[39m [f \u001b[38;5;28;01mfor\u001b[39;00m f \u001b[38;5;129;01min\u001b[39;00m files][\u001b[38;5;241m0\u001b[39m]\n\u001b[1;32m      9\u001b[0m         plot_discharge_line_for_freq(freq, path, \u001b[38;5;28;01mNone\u001b[39;00m)\n\u001b[0;32m---> 11\u001b[0m \u001b[43mplot_discharge_line\u001b[49m\u001b[43m(\u001b[49m\u001b[43m)\u001b[49m\n",
      "Cell \u001b[0;32mIn[13], line 8\u001b[0m, in \u001b[0;36mplot_discharge_line\u001b[0;34m()\u001b[0m\n\u001b[1;32m      6\u001b[0m regex \u001b[38;5;241m=\u001b[39m \u001b[38;5;124m'\u001b[39m\u001b[38;5;124m*fq\u001b[39m\u001b[38;5;124m'\u001b[39m\u001b[38;5;241m+\u001b[39m \u001b[38;5;28mstr\u001b[39m(freq)\u001b[38;5;241m+\u001b[39m\u001b[38;5;124m'\u001b[39m\u001b[38;5;124m*_i*.csv\u001b[39m\u001b[38;5;124m'\u001b[39m\n\u001b[1;32m      7\u001b[0m files \u001b[38;5;241m=\u001b[39m Path(base)\u001b[38;5;241m.\u001b[39mglob(regex)\n\u001b[0;32m----> 8\u001b[0m path \u001b[38;5;241m=\u001b[39m \u001b[43m[\u001b[49m\u001b[43mf\u001b[49m\u001b[43m \u001b[49m\u001b[38;5;28;43;01mfor\u001b[39;49;00m\u001b[43m \u001b[49m\u001b[43mf\u001b[49m\u001b[43m \u001b[49m\u001b[38;5;129;43;01min\u001b[39;49;00m\u001b[43m \u001b[49m\u001b[43mfiles\u001b[49m\u001b[43m]\u001b[49m\u001b[43m[\u001b[49m\u001b[38;5;241;43m0\u001b[39;49m\u001b[43m]\u001b[49m\n\u001b[1;32m      9\u001b[0m plot_discharge_line_for_freq(freq, path, \u001b[38;5;28;01mNone\u001b[39;00m)\n",
      "\u001b[0;31mIndexError\u001b[0m: list index out of range"
     ]
    }
   ],
   "source": [
    "# generate all the discharge curves  \n",
    "def plot_discharge_line():\n",
    "    base = f\"{BASE_PATH}/\"\n",
    "    frequencies = [5,10, 15, 20, 30, 50]\n",
    "    for freq in frequencies: \n",
    "        regex = '*fq'+ str(freq)+'*_i*.csv'\n",
    "        files = Path(base).glob(regex)\n",
    "        path = [f for f in files][0]\n",
    "        plot_discharge_line_for_freq(freq, path, None)\n",
    "\n",
    "plot_discharge_line()"
   ]
  },
  {
   "cell_type": "code",
   "execution_count": 14,
   "id": "a4e0cc84",
   "metadata": {
    "tags": []
   },
   "outputs": [],
   "source": [
    "def get_caudal_by_gap(freq):\n",
    "    path = f\"{BASE_PATH}/\"\n",
    "    gaps = [0.04, 0.05, 0.06]\n",
    "    caudales = []\n",
    "    result = {}\n",
    "    result_map = {}\n",
    "    for gap in gaps: \n",
    "        regex = f\"*fq{freq}_gap{gap}*_i*.csv\"\n",
    "\n",
    "        files = Path(path).glob(regex)\n",
    "        caudal = [get_charge(f) for f in files][0]\n",
    "        result_map[gap] = caudal\n",
    "        caudales.append(caudal[0])\n",
    "        \n",
    "    result[\"d\"] = gaps\n",
    "    result[\"q\"] = caudales\n",
    "    \n",
    "        \n",
    "    plot_map(\"fluxVsAncho.png\", result_map, \"Ancho(m)\", \"Caudal (particulas / s)\", False)\n",
    "\n",
    "    return result"
   ]
  },
  {
   "cell_type": "code",
   "execution_count": null,
   "id": "e86ab380-28fb-4e90-b20d-ba2355056412",
   "metadata": {
    "tags": []
   },
   "outputs": [],
   "source": [
    "get_caudal_by_gap(50)"
   ]
  },
  {
   "cell_type": "code",
   "execution_count": 12,
   "id": "a3ea9039-f8c7-490d-a123-8a0ad29ab219",
   "metadata": {
    "tags": []
   },
   "outputs": [],
   "source": [
    "def linear_func(d, c):\n",
    "    return d - (0.01) * c\n",
    "\n",
    "def plot_beverloo(points,c):\n",
    "    B = (200 /(0.35 * 0.2)) * np.sqrt(0.05)\n",
    "    r = 0.01\n",
    "    x = np.arange(np.abs(c*r), 0.07, 0.001)\n",
    "    y = B * ((x-c*r)**1.5)\n",
    "    x_p = [p[0] for p in points]\n",
    "    y_p = [p[1] for p in points]\n",
    "    \n",
    "    plt.plot(x,y, label='Ley de Beverloo')\n",
    "    plt.plot(x_p, y_p, marker='x', linestyle='None',label='Resultados')\n",
    "    plt.xlabel('Ancho(m)')\n",
    "    plt.ylabel('Caudal ')\n",
    "    # plot(points)\n",
    "    plt.legend()\n",
    "    plt.savefig(\"Beverloo.png\")"
   ]
  },
  {
   "cell_type": "code",
   "execution_count": null,
   "id": "4c21527f-8b42-4584-a01e-2ac7b2262dc2",
   "metadata": {
    "tags": []
   },
   "outputs": [],
   "source": [
    "dictio = get_caudal_by_gap(50)\n",
    "D = dictio[\"d\"]\n",
    "Q = dictio[\"q\"]\n",
    "D = np.array(D) #pasando a centimetros\n",
    "B = (200 /(0.35 * 0.2)) * np.sqrt(0.05)\n",
    "Q_despejado = np.exp((np.log(Q/B))/(1.5))\n",
    "\n",
    "popt, _ = curve_fit(linear_func, D, Q_despejado)\n",
    "b_opt = popt[0] # c que aproxima. \n",
    "print(b_opt)\n",
    "c_despejado = (D - Q_despejado)/(0.01) \n",
    "print(c_despejado)\n",
    "\n",
    "points = []\n",
    "for d,q in zip(D,Q):\n",
    "    points.append((d,q))\n",
    "\n",
    "plot_beverloo(points, b_opt)"
   ]
  },
  {
   "cell_type": "code",
   "execution_count": null,
   "id": "ebd60977-bdfa-4ecd-b47d-2656d290ba4b",
   "metadata": {
    "tags": []
   },
   "outputs": [],
   "source": [
    "# time_delta = 1\n",
    "# time_bins = np.arange(0, 10, time_delta)\n",
    "\n",
    "# data = []\n",
    "# df_without_index = df.reset_index()\n",
    "# for i in range(0, len(time_bins) - 1):\n",
    "#     lower = time_bins[i]\n",
    "#     upper = time_bins[i + 1]\n",
    "\n",
    "#     particles = df_without_index[(df_without_index['time'] < upper) & (df_without_index['time'] >= lower)]['ball_id'].sum()\n",
    "#     data.append({'time': lower, 'particles': particles})\n",
    "\n",
    "# q_df = pd.DataFrame(data)\n",
    "# q_df.plot(x='time', y='particles')\n",
    "\n",
    "# q_df.mean()"
   ]
  },
  {
   "cell_type": "code",
   "execution_count": null,
   "id": "745932ad-18f2-4c4d-a46b-2c1070cfc6ad",
   "metadata": {
    "tags": []
   },
   "outputs": [],
   "source": [
    "# rolling_df = df.copy().reset_index()\n",
    "# rolling_df['Timestamp'] = pd.to_datetime(rolling_df['time'], unit='s')\n",
    "# rolling_df.set_index('Timestamp', inplace=True)\n",
    "# rolling_df.rolling(window='1000ms')['ball_id'].sum().plot()"
   ]
  },
  {
   "cell_type": "code",
   "execution_count": null,
   "id": "36d80338-2aa9-4e26-b615-28b684771b08",
   "metadata": {},
   "outputs": [],
   "source": []
  },
  {
   "cell_type": "markdown",
   "id": "bb758635-c475-4dd8-9e5a-58b1b2fb111a",
   "metadata": {},
   "source": [
    "## Comparación sin oscilación"
   ]
  },
  {
   "cell_type": "markdown",
   "id": "824dc5df-068c-4374-a9fc-72de57bfcac0",
   "metadata": {
    "tags": []
   },
   "source": [
    "1. Identificar valor de C para Beverloo con sistema no oscilatorio\n",
    "2. Calcular el impacto en el \"d\" efectivo al oscilar el sistema"
   ]
  },
  {
   "cell_type": "code",
   "execution_count": 15,
   "id": "748ecefa-98a4-47c7-82f0-bda21b08179c",
   "metadata": {
    "tags": []
   },
   "outputs": [],
   "source": [
    "VOLUME_HEIGHT = 0.25 # meters\n",
    "VOLUME_WIDTH = 0.2 # meters\n",
    "PARTICLES_AMOUNT = 200\n",
    "PARTICLE_AVG_RADIUS = 0.01 # meters\n",
    "GRAVITY = 0.05 # m/s²"
   ]
  },
  {
   "cell_type": "code",
   "execution_count": 16,
   "id": "74d0d1cf-defd-49d6-ba1e-96e3663b3a2e",
   "metadata": {
    "tags": []
   },
   "outputs": [],
   "source": [
    "def approximate_beverloo_c(\n",
    "    D: list[float],\n",
    "    Q: list[float],\n",
    "    volume_width=VOLUME_WIDTH,\n",
    "    volume_height=VOLUME_HEIGHT,\n",
    "    particles_amount=PARTICLES_AMOUNT,\n",
    "    particle_avg_radius=PARTICLE_AVG_RADIUS,\n",
    "    gravity=GRAVITY\n",
    "):\n",
    "    D = np.array(D)\n",
    "    total_volume = volume_width * volume_height\n",
    "    B = (particles_amount /(total_volume)) * np.sqrt(gravity)\n",
    "    Q_despejado = np.exp(np.log(Q / B) / 1.5)\n",
    "\n",
    "    popt, _ = curve_fit(linear_func, D, Q_despejado)\n",
    "    b_opt = popt[0]  # c que aproxima.\n",
    "    return b_opt"
   ]
  },
  {
   "cell_type": "code",
   "execution_count": 17,
   "id": "3f1d9285-ae74-42f6-9c5b-aed6cb283b37",
   "metadata": {
    "tags": []
   },
   "outputs": [],
   "source": [
    "def beverloo_df(\n",
    "    x,\n",
    "    c,\n",
    "    volume_width=VOLUME_WIDTH,\n",
    "    volume_height=VOLUME_HEIGHT,\n",
    "    particles_amount=PARTICLES_AMOUNT,\n",
    "    particle_avg_radius=PARTICLE_AVG_RADIUS,\n",
    "    gravity=GRAVITY\n",
    "):\n",
    "    total_volume = volume_width * volume_height\n",
    "    B = particles_amount / total_volume * np.sqrt(gravity)\n",
    "    \n",
    "    y = B * ((x - c * particle_avg_radius) ** 1.5)\n",
    "    \n",
    "    return pd.DataFrame({'x': x, 'y': y})"
   ]
  },
  {
   "cell_type": "code",
   "execution_count": 18,
   "id": "fd5ba2d2-36fa-44ed-9b30-ff5e199374bb",
   "metadata": {
    "tags": []
   },
   "outputs": [],
   "source": [
    "def plot_beverloo_curve(df, ax, label=\"Ley de Beverloo\"):\n",
    "    # df = df[(df['x'] > 0.037) & (df['x'] < 0.063)].copy()\n",
    "    \n",
    "    ax.plot(df['x'], df['y'], label=label)\n",
    "    \n",
    "def plot_beverloo_experiment_data_points(df, ax, label=\"Resultados\", marker='o'):\n",
    "    x_p = [p[0] for p in df]\n",
    "    y_p = [p[1] for p in df]\n",
    "    \n",
    "    ax.plot(x_p, y_p, marker=marker, linestyle='None', label=label, alpha=1)"
   ]
  },
  {
   "cell_type": "code",
   "execution_count": 25,
   "id": "3c2f5412-2b4e-4cf5-80b0-bf0fa2b8e793",
   "metadata": {
    "tags": []
   },
   "outputs": [],
   "source": [
    "def get_caudal_df(freq: int):\n",
    "    path = f\"{BASE_PATH}/\"\n",
    "    gaps = [0.04, 0.05, 0.06]\n",
    "    caudales = []\n",
    "    errors = []\n",
    "    result_map = {}\n",
    "    \n",
    "    for gap in gaps: \n",
    "        regex = f\"*fq{freq}_gap{gap}*_i*.csv\"\n",
    "        files = Path(path).glob(regex)\n",
    "        caudal = [get_charge(f, 10) for f in files][0]\n",
    "        result_map[gap] = caudal\n",
    "        caudales.append(caudal[0])\n",
    "        errors.append(caudal[1])\n",
    "\n",
    "    return {\"d\": gaps, \"q\": caudales, \"error\":errors}"
   ]
  },
  {
   "cell_type": "code",
   "execution_count": null,
   "id": "6efc262d-e7b6-40b9-92e6-8a978f41d359",
   "metadata": {
    "tags": []
   },
   "outputs": [],
   "source": [
    "optimal_freq_data = get_caudal_df(freq=50)\n",
    "print(optimal_freq_data)\n",
    "c = approximate_beverloo_c(optimal_freq_data['d'], optimal_freq_data['q'])\n",
    "print(f\"Fitted c: {c}\")\n",
    "\n",
    "x = np.arange(np.abs(c * PARTICLE_AVG_RADIUS), 0.07, 0.001)\n",
    "\n",
    "beverloo = beverloo_df(x, c)\n",
    "\n",
    "fig, ax = plt.subplots()\n",
    "\n",
    "plot_beverloo_curve(beverloo, ax, \"Beverloo freq. óptima\")\n",
    "plot_beverloo_experiment_data_points([x for x in zip(D, Q)], ax, \"Resultados freq. óptima\", '+')\n",
    "\n",
    "ax.legend()\n",
    "ax.set_xlabel('Ancho (m)')\n",
    "ax.set_ylabel('Caudal (partículas / s)')\n",
    "\n",
    "# plt.show()"
   ]
  },
  {
   "cell_type": "code",
   "execution_count": 26,
   "id": "4ed23970-6fe4-44c1-a259-9398b383fcf9",
   "metadata": {
    "tags": []
   },
   "outputs": [
    {
     "name": "stdout",
     "output_type": "stream",
     "text": [
      "            time   sum\n",
      "time                  \n",
      "1.903      1.903     1\n",
      "2.231      2.231     2\n",
      "2.358      2.358     3\n",
      "2.513      2.513     4\n",
      "2.643      2.643     5\n",
      "...          ...   ...\n",
      "498.987  498.987  2624\n",
      "499.117  499.117  2625\n",
      "499.291  499.291  2626\n",
      "499.766  499.766  2627\n",
      "499.950  499.950  2628\n",
      "\n",
      "[2625 rows x 2 columns]\n",
      "            time   sum\n",
      "time                  \n",
      "1.783      1.783     1\n",
      "1.986      1.986     2\n",
      "2.219      2.219     3\n",
      "2.254      2.254     4\n",
      "2.290      2.290     5\n",
      "...          ...   ...\n",
      "499.547  499.547  3941\n",
      "499.595  499.595  3942\n",
      "499.644  499.644  3943\n",
      "499.772  499.772  3944\n",
      "499.913  499.913  3945\n",
      "\n",
      "[3938 rows x 2 columns]\n",
      "            time   sum\n",
      "time                  \n",
      "1.952      1.952     1\n",
      "2.064      2.064     2\n",
      "2.269      2.269     3\n",
      "2.425      2.425     4\n",
      "2.458      2.458     5\n",
      "...          ...   ...\n",
      "499.590  499.590  5327\n",
      "499.649  499.649  5328\n",
      "499.718  499.718  5329\n",
      "499.885  499.885  5330\n",
      "499.952  499.952  5331\n",
      "\n",
      "[5315 rows x 2 columns]\n",
      "{'d': [0.04, 0.05, 0.06], 'q': [5.234030625113894, 7.8840369874223395, 10.693557610377367], 'error': [0.0011447388605853195, 0.0006556857762908613, 0.0005126729100548307]}\n",
      "Fitted c: 0.7523133864004228\n"
     ]
    },
    {
     "data": {
      "image/png": "[encoded data removed]",
      "text/plain": [
       "<Figure size 640x480 with 1 Axes>"
      ]
     },
     "execution_count": 26,
     "metadata": {},
     "output_type": "execute_result"
    },
    {
     "data": {
      "image/png": "[encoded data removed]",
      "text/plain": [
       "<Figure size 640x480 with 1 Axes>"
      ]
     },
     "metadata": {},
     "output_type": "display_data"
    }
   ],
   "source": [
    "fig, ax = plt.subplots()\n",
    "\n",
    "no_oscilation_data = get_caudal_df(freq=0)\n",
    "print(no_oscilation_data)\n",
    "no_oscilation_d = no_oscilation_data['d']\n",
    "no_oscilation_q = no_oscilation_data['q']\n",
    "no_oscilation_e = no_oscilation_data['error']\n",
    "no_oscilation_c = approximate_beverloo_c(no_oscilation_d, no_oscilation_q)\n",
    "\n",
    "print(f\"Fitted c: {no_oscilation_c}\")\n",
    "\n",
    "x = np.arange(np.abs(no_oscilation_c * PARTICLE_AVG_RADIUS), 0.07, 0.001)\n",
    "\n",
    "beverloo = beverloo_df(x, no_oscilation_c)\n",
    "\n",
    "plot_beverloo_curve(beverloo, ax, \"Beverloo sin osc.\")\n",
    "plot_beverloo_experiment_data_points([x for x in zip(no_oscilation_d, no_oscilation_q)], ax, \"Resultados sin osc.\", 'x')\n",
    "\n",
    "ax.legend()\n",
    "\n",
    "fig"
   ]
  },
  {
   "cell_type": "code",
   "execution_count": 21,
   "id": "e80fbe31-53f4-414b-b4c3-8a784bffec59",
   "metadata": {
    "tags": []
   },
   "outputs": [
    {
     "name": "stdout",
     "output_type": "stream",
     "text": [
      "{'d': [0.04, 0.05, 0.06], 'q': [5.573726997147941, 7.899029923909545, 10.368408900710673], 'error': [0.0038860038799414885, 0.004429295073437039, 0.005282133702832977]}\n",
      "Fitted c: 0.7396788661663387\n"
     ]
    },
    {
     "data": {
      "image/png": "[encoded data removed]",
      "text/plain": [
       "<Figure size 640x480 with 1 Axes>"
      ]
     },
     "execution_count": 21,
     "metadata": {},
     "output_type": "execute_result"
    }
   ],
   "source": [
    "no_oscilation_data = get_caudal_df(freq=0)\n",
    "print(no_oscilation_data)\n",
    "no_oscilation_d = no_oscilation_data['d']\n",
    "no_oscilation_q = no_oscilation_data['q']\n",
    "no_oscilation_e = no_oscilation_data['error']\n",
    "no_oscilation_c = approximate_beverloo_c(no_oscilation_d, no_oscilation_q)\n",
    "\n",
    "print(f\"Fitted c: {no_oscilation_c}\")\n",
    "\n",
    "x = np.arange(np.abs(no_oscilation_c * PARTICLE_AVG_RADIUS), 0.07, 0.001)\n",
    "\n",
    "beverloo = beverloo_df(x, no_oscilation_c)\n",
    "\n",
    "plot_beverloo_curve(beverloo, ax, \"Beverloo sin osc.\")\n",
    "plot_beverloo_experiment_data_points([x for x in zip(no_oscilation_d, no_oscilation_q)], ax, \"Resultados sin osc.\", 'x')\n",
    "\n",
    "ax.legend()\n",
    "\n",
    "fig"
   ]
  },
  {
   "cell_type": "code",
   "execution_count": null,
   "id": "7ee25344-6f3c-4328-8792-b16b3b206767",
   "metadata": {
    "tags": []
   },
   "outputs": [],
   "source": [
    "plt.clf()"
   ]
  },
  {
   "cell_type": "code",
   "execution_count": null,
   "id": "2bf89004-f639-4924-9807-c08e635c7827",
   "metadata": {
    "tags": []
   },
   "outputs": [],
   "source": [
    "comparison_c_df = pd.DataFrame({'x': optimal_freq_data['d'], 'osc_y': optimal_freq_data['q'], 'no_osc_y': no_oscilation_q})\n",
    "comparison_c_df['y_ratio'] = (comparison_c_df['osc_y']) / comparison_c_df['no_osc_y']\n",
    "# comparison_c_df['error'] = (comparison_c_df['y_ratio']) * np.sqrt(((optimal_freq_data['q'] /optimal_freq_data['error'] )**2)\n",
    "#                                                                   + ((no_oscilation_data['q'] / no_oscilation_data['error'])**2))\n",
    "print(optimal_freq_data)\n",
    "\n",
    "\n",
    "comparison_c_df['error'] = comparison_c_df['y_ratio'] * np.sqrt((optimal_freq_data['error'] / comparison_c_df['osc_y'])**2\n",
    "                                                                 + ( no_oscilation_e / comparison_c_df['no_osc_y'] )**2)\n",
    "\n",
    "print(comparison_c_df)\n",
    "\n",
    "\n",
    "result = {x: (y_ratio, error) for x, y_ratio, error in zip(comparison_c_df['x'], comparison_c_df['y_ratio'], comparison_c_df['error'])}\n",
    "print(result)\n",
    "\n",
    "plot_map(\"ganancia.png\",result, 'Ancho (m)', '%Ganancia actual', False)\n",
    "\n",
    "plt.bar(x=comparison_c_df['x'], width=0.005, height=comparison_c_df['y_ratio'])\n",
    "plt.xlabel('Ancho (m)')\n",
    "plt.ylabel('% Ganancia caudal')\n",
    "\n",
    "print(comparison_c_df)"
   ]
  },
  {
   "cell_type": "code",
   "execution_count": null,
   "id": "3088f6dd-3f15-4b02-ab90-de71bec6efc0",
   "metadata": {
    "tags": []
   },
   "outputs": [],
   "source": [
    "data = [[0, no_oscilation_c], [10, no_oscilation_c]]\n",
    "c_df = pd.DataFrame({'x': [0, 10], 'y': [no_oscilation_c, c]})\n",
    "plt.scatter(x=c_df['x'], y=c_df['y'])\n",
    "plt.xlabel('Frecuencia (Hz)')\n",
    "plt.ylabel('c')"
   ]
  },
  {
   "cell_type": "code",
   "execution_count": null,
   "id": "ecdff276-3370-4b32-bae4-9d28de3359f7",
   "metadata": {
    "tags": []
   },
   "outputs": [],
   "source": [
    "import uncertainties.unumpy as unumpy\n",
    "\n",
    "no_oscilation_dataset = unumpy.uarray(\n",
    "    no_oscilation_data['q'], no_oscilation_data['error']\n",
    ")\n",
    "\n",
    "oscilation_dataset = unumpy.uarray(\n",
    "    optimal_freq_data['q'], optimal_freq_data['error']\n",
    ")\n",
    "\n",
    "height = (oscilation_dataset - no_oscilation_dataset) / no_oscilation_dataset * 100\n",
    "print(height)\n",
    "\n",
    "plt.scatter(x=no_oscilation_data['d'], y=[x.nominal_value for x in height])\n",
    "plt.errorbar(x=no_oscilation_data['d'], y=[x.nominal_value for x in height], yerr=[x.std_dev for x in height], fmt='o')\n",
    "plt.xticks([0.04, 0.05, 0.06])\n",
    "plt.xlabel('Ancho (m)')\n",
    "plt.ylabel('% Ganancia')\n",
    "plt.show()"
   ]
  },
  {
   "cell_type": "code",
   "execution_count": null,
   "id": "5c59061c-72d1-48bf-8913-951b995f7d95",
   "metadata": {},
   "outputs": [],
   "source": []
  },
  {
   "cell_type": "code",
   "execution_count": null,
   "id": "d9d86a5f-0445-4ffc-a3ee-403b757747e2",
   "metadata": {},
   "outputs": [],
   "source": []
  }
 ],
 "metadata": {
  "kernelspec": {
   "display_name": "Python 3 (ipykernel)",
   "language": "python",
   "name": "python3"
  },
  "language_info": {
   "codemirror_mode": {
    "name": "ipython",
    "version": 3
   },
   "file_extension": ".py",
   "mimetype": "text/x-python",
   "name": "python",
   "nbconvert_exporter": "python",
   "pygments_lexer": "ipython3",
   "version": "3.10.8"
  }
 },
 "nbformat": 4,
 "nbformat_minor": 5
}
