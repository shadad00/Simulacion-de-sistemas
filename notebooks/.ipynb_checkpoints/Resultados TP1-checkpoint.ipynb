{
 "cells": [
  {
   "cell_type": "code",
   "execution_count": 28,
   "id": "9a8111ba-b300-441d-af76-3d14e114cb50",
   "metadata": {
    "tags": []
   },
   "outputs": [],
   "source": [
    "import pandas as pd\n",
    "import numpy as np"
   ]
  },
  {
   "cell_type": "code",
   "execution_count": 31,
   "id": "828202bf-61fc-4b81-a366-4ed0e1132702",
   "metadata": {
    "tags": []
   },
   "outputs": [
    {
     "data": {
      "text/html": [
       "<div>\n",
       "<style scoped>\n",
       "    .dataframe tbody tr th:only-of-type {\n",
       "        vertical-align: middle;\n",
       "    }\n",
       "\n",
       "    .dataframe tbody tr th {\n",
       "        vertical-align: top;\n",
       "    }\n",
       "\n",
       "    .dataframe thead th {\n",
       "        text-align: right;\n",
       "    }\n",
       "</style>\n",
       "<table border=\"1\" class=\"dataframe\">\n",
       "  <thead>\n",
       "    <tr style=\"text-align: right;\">\n",
       "      <th></th>\n",
       "      <th>method</th>\n",
       "      <th>time</th>\n",
       "      <th>grid_length</th>\n",
       "      <th>cell_quantity</th>\n",
       "      <th>particle_quantity</th>\n",
       "      <th>particle_radius</th>\n",
       "      <th>cutoff_radius</th>\n",
       "    </tr>\n",
       "  </thead>\n",
       "  <tbody>\n",
       "    <tr>\n",
       "      <th>2</th>\n",
       "      <td>NoPeriodicGrid</td>\n",
       "      <td>28.0</td>\n",
       "      <td>20.0</td>\n",
       "      <td>4</td>\n",
       "      <td>1000</td>\n",
       "      <td>0.25</td>\n",
       "      <td>1.0</td>\n",
       "    </tr>\n",
       "    <tr>\n",
       "      <th>3</th>\n",
       "      <td>PeriodicGridHalfDistance</td>\n",
       "      <td>37.0</td>\n",
       "      <td>20.0</td>\n",
       "      <td>4</td>\n",
       "      <td>1000</td>\n",
       "      <td>0.25</td>\n",
       "      <td>1.0</td>\n",
       "    </tr>\n",
       "    <tr>\n",
       "      <th>4</th>\n",
       "      <td>NoPeriodicGrid</td>\n",
       "      <td>25.0</td>\n",
       "      <td>20.0</td>\n",
       "      <td>4</td>\n",
       "      <td>1000</td>\n",
       "      <td>0.25</td>\n",
       "      <td>1.0</td>\n",
       "    </tr>\n",
       "    <tr>\n",
       "      <th>5</th>\n",
       "      <td>PeriodicGridHalfDistance</td>\n",
       "      <td>63.0</td>\n",
       "      <td>20.0</td>\n",
       "      <td>4</td>\n",
       "      <td>1000</td>\n",
       "      <td>0.25</td>\n",
       "      <td>1.0</td>\n",
       "    </tr>\n",
       "    <tr>\n",
       "      <th>6</th>\n",
       "      <td>NoPeriodicGrid</td>\n",
       "      <td>16.0</td>\n",
       "      <td>20.0</td>\n",
       "      <td>4</td>\n",
       "      <td>1000</td>\n",
       "      <td>0.25</td>\n",
       "      <td>1.0</td>\n",
       "    </tr>\n",
       "    <tr>\n",
       "      <th>...</th>\n",
       "      <td>...</td>\n",
       "      <td>...</td>\n",
       "      <td>...</td>\n",
       "      <td>...</td>\n",
       "      <td>...</td>\n",
       "      <td>...</td>\n",
       "      <td>...</td>\n",
       "    </tr>\n",
       "    <tr>\n",
       "      <th>195</th>\n",
       "      <td>PeriodicGridHalfDistance</td>\n",
       "      <td>8.0</td>\n",
       "      <td>20.0</td>\n",
       "      <td>4</td>\n",
       "      <td>1000</td>\n",
       "      <td>0.25</td>\n",
       "      <td>1.0</td>\n",
       "    </tr>\n",
       "    <tr>\n",
       "      <th>196</th>\n",
       "      <td>NoPeriodicGrid</td>\n",
       "      <td>17.0</td>\n",
       "      <td>20.0</td>\n",
       "      <td>4</td>\n",
       "      <td>1000</td>\n",
       "      <td>0.25</td>\n",
       "      <td>1.0</td>\n",
       "    </tr>\n",
       "    <tr>\n",
       "      <th>197</th>\n",
       "      <td>PeriodicGridHalfDistance</td>\n",
       "      <td>19.0</td>\n",
       "      <td>20.0</td>\n",
       "      <td>4</td>\n",
       "      <td>1000</td>\n",
       "      <td>0.25</td>\n",
       "      <td>1.0</td>\n",
       "    </tr>\n",
       "    <tr>\n",
       "      <th>198</th>\n",
       "      <td>NoPeriodicGrid</td>\n",
       "      <td>7.0</td>\n",
       "      <td>20.0</td>\n",
       "      <td>4</td>\n",
       "      <td>1000</td>\n",
       "      <td>0.25</td>\n",
       "      <td>1.0</td>\n",
       "    </tr>\n",
       "    <tr>\n",
       "      <th>199</th>\n",
       "      <td>PeriodicGridHalfDistance</td>\n",
       "      <td>9.0</td>\n",
       "      <td>20.0</td>\n",
       "      <td>4</td>\n",
       "      <td>1000</td>\n",
       "      <td>0.25</td>\n",
       "      <td>1.0</td>\n",
       "    </tr>\n",
       "  </tbody>\n",
       "</table>\n",
       "<p>198 rows × 7 columns</p>\n",
       "</div>"
      ],
      "text/plain": [
       "                       method  time  grid_length  cell_quantity  \\\n",
       "2              NoPeriodicGrid  28.0         20.0              4   \n",
       "3    PeriodicGridHalfDistance  37.0         20.0              4   \n",
       "4              NoPeriodicGrid  25.0         20.0              4   \n",
       "5    PeriodicGridHalfDistance  63.0         20.0              4   \n",
       "6              NoPeriodicGrid  16.0         20.0              4   \n",
       "..                        ...   ...          ...            ...   \n",
       "195  PeriodicGridHalfDistance   8.0         20.0              4   \n",
       "196            NoPeriodicGrid  17.0         20.0              4   \n",
       "197  PeriodicGridHalfDistance  19.0         20.0              4   \n",
       "198            NoPeriodicGrid   7.0         20.0              4   \n",
       "199  PeriodicGridHalfDistance   9.0         20.0              4   \n",
       "\n",
       "     particle_quantity  particle_radius  cutoff_radius  \n",
       "2                 1000             0.25            1.0  \n",
       "3                 1000             0.25            1.0  \n",
       "4                 1000             0.25            1.0  \n",
       "5                 1000             0.25            1.0  \n",
       "6                 1000             0.25            1.0  \n",
       "..                 ...              ...            ...  \n",
       "195               1000             0.25            1.0  \n",
       "196               1000             0.25            1.0  \n",
       "197               1000             0.25            1.0  \n",
       "198               1000             0.25            1.0  \n",
       "199               1000             0.25            1.0  \n",
       "\n",
       "[198 rows x 7 columns]"
      ]
     },
     "execution_count": 31,
     "metadata": {},
     "output_type": "execute_result"
    }
   ],
   "source": [
    "cols = [\"method\", \"time\", \"grid_length\", \"cell_quantity\", \"particle_quantity\", \"particle_radius\", \"cutoff_radius\"]\n",
    "results = pd.read_csv(\"../pruebacsv.csv\", header=None, names=cols)\n",
    "results.drop(index=results.index[:2],inplace=True)\n",
    "results"
   ]
  },
  {
   "cell_type": "code",
   "execution_count": 32,
   "id": "f04f2cde-b80e-4ccd-974f-9a0db87057a4",
   "metadata": {
    "tags": []
   },
   "outputs": [
    {
     "data": {
      "text/plain": [
       "<Axes: title={'center': 'Tiempo'}, ylabel='method'>"
      ]
     },
     "execution_count": 32,
     "metadata": {},
     "output_type": "execute_result"
    },
    {
     "data": {
      "image/png": "[encoded data removed]",
      "text/plain": [
       "<Figure size 640x480 with 1 Axes>"
      ]
     },
     "metadata": {},
     "output_type": "display_data"
    }
   ],
   "source": [
    "mean_and_std = results.groupby(\"method\").agg([np.mean, np.std])\n",
    "mean_and_std['time']\n",
    "mean_and_std['time'].plot(kind = \"barh\", y = \"mean\", legend = False,\n",
    "                          xerr = \"std\", title = \"Tiempo\", color='green')"
   ]
  }
 ],
 "metadata": {
  "kernelspec": {
   "display_name": "Python 3 (ipykernel)",
   "language": "python",
   "name": "python3"
  },
  "language_info": {
   "codemirror_mode": {
    "name": "ipython",
    "version": 3
   },
   "file_extension": ".py",
   "mimetype": "text/x-python",
   "name": "python",
   "nbconvert_exporter": "python",
   "pygments_lexer": "ipython3",
   "version": "3.10.8"
  }
 },
 "nbformat": 4,
 "nbformat_minor": 5
}
