{
 "cells": [
  {
   "cell_type": "code",
   "execution_count": 1,
   "id": "c5b6460b-92a3-4fb7-997e-0570dfec98cf",
   "metadata": {
    "tags": []
   },
   "outputs": [
    {
     "data": {
      "text/plain": [
       "0.1"
      ]
     },
     "execution_count": 1,
     "metadata": {},
     "output_type": "execute_result"
    }
   ],
   "source": [
    "def frame_to_time(frame, dt_video):\n",
    "    return frame * dt_video\n",
    "\n",
    "frame_to_time(1, 0.1)"
   ]
  },
  {
   "cell_type": "code",
   "execution_count": 5,
   "id": "c51b3456-4bed-42a8-a857-6fb6e9693664",
   "metadata": {
    "tags": []
   },
   "outputs": [],
   "source": [
    "class SiloToVideoScaler:\n",
    "    \"\"\"\n",
    "    Scales coordinates between the silo space and the video pixels.\n",
    "    \n",
    "    Silo coordinates are up right oriented. Video coordinates are down right oriented.\n",
    "    \"\"\"\n",
    "    def __init__(self,\n",
    "                 video_width_px,\n",
    "                 video_height_px,\n",
    "                 silo_width_cm,\n",
    "                 silo_vertical_boundaries,\n",
    "                 horizontal_padding_px,\n",
    "                 vertical_padding_px):\n",
    "        silo_width_px = video_width_px - 2 * horizontal_padding_px\n",
    "        silo_height_cm = silo_vertical_boundaries[1] - silo_vertical_boundaries[0]\n",
    "        silo_height_px = video_height_px - 2 * vertical_padding_px\n",
    "        \n",
    "        self.coordinate_to_px_scaler = {\n",
    "            'x': lambda x: horizontal_padding_px + silo_width_px / silo_width_cm * x,\n",
    "            'y': lambda y: video_height_px - vertical_padding_px - silo_height_px / silo_height_cm * (y - silo_vertical_boundaries[0]),\n",
    "        }\n",
    "\n",
    "    def coordinate_to_px(self, axis, coordinate):\n",
    "        return self.coordinate_to_px_scaler[axis](coordinate)\n"
   ]
  },
  {
   "cell_type": "code",
   "execution_count": 14,
   "id": "f79fde02-d7bc-4f3e-ae56-d722583f680d",
   "metadata": {
    "tags": []
   },
   "outputs": [
    {
     "ename": "RuntimeError",
     "evalue": "",
     "output_type": "error",
     "traceback": [
      "\u001b[0;31m---------------------------------------------------------------------------\u001b[0m",
      "\u001b[0;31mRuntimeError\u001b[0m                              Traceback (most recent call last)",
      "Cell \u001b[0;32mIn[14], line 88\u001b[0m\n\u001b[1;32m     84\u001b[0m     \u001b[38;5;66;03m# Close all OpenCV windows\u001b[39;00m\n\u001b[1;32m     85\u001b[0m     cv2\u001b[38;5;241m.\u001b[39mdestroyAllWindows()\n\u001b[0;32m---> 88\u001b[0m \u001b[43madd_gap_walls\u001b[49m\u001b[43m(\u001b[49m\u001b[38;5;124;43m\"\u001b[39;49m\u001b[38;5;124;43m../tp5/out/silo/silo_fq0_gap0.04_i0.mp4\u001b[39;49m\u001b[38;5;124;43m\"\u001b[39;49m\u001b[43m)\u001b[49m\n",
      "Cell \u001b[0;32mIn[14], line 12\u001b[0m, in \u001b[0;36madd_gap_walls\u001b[0;34m(video_path)\u001b[0m\n\u001b[1;32m     10\u001b[0m     freq_number \u001b[38;5;241m=\u001b[39m \u001b[38;5;28mint\u001b[39m(match\u001b[38;5;241m.\u001b[39mgroup(\u001b[38;5;241m1\u001b[39m))\n\u001b[1;32m     11\u001b[0m \u001b[38;5;28;01melse\u001b[39;00m:\n\u001b[0;32m---> 12\u001b[0m     \u001b[38;5;28;01mraise\u001b[39;00m \u001b[38;5;167;01mRuntimeError\u001b[39;00m()\n\u001b[1;32m     14\u001b[0m pattern \u001b[38;5;241m=\u001b[39m \u001b[38;5;124mr\u001b[39m\u001b[38;5;124m\"\u001b[39m\u001b[38;5;124mgap(\u001b[39m\u001b[38;5;124m\\\u001b[39m\u001b[38;5;124md+\u001b[39m\u001b[38;5;124m\\\u001b[39m\u001b[38;5;124m.\u001b[39m\u001b[38;5;124m\\\u001b[39m\u001b[38;5;124md+|\u001b[39m\u001b[38;5;124m\\\u001b[39m\u001b[38;5;124md+)\u001b[39m\u001b[38;5;124m\"\u001b[39m\n\u001b[1;32m     15\u001b[0m match \u001b[38;5;241m=\u001b[39m re\u001b[38;5;241m.\u001b[39msearch(pattern, basepath)\n",
      "\u001b[0;31mRuntimeError\u001b[0m: "
     ]
    }
   ],
   "source": [
    "import cv2\n",
    "import os\n",
    "import re\n",
    "\n",
    "def add_gap_walls(video_path):\n",
    "    basepath = os.path.basename(video_path)\n",
    "    pattern = r\"freq(\\d+)\"\n",
    "    match = re.search(pattern, basepath)\n",
    "    if match:\n",
    "        freq_number = int(match.group(1))\n",
    "    else:\n",
    "        raise RuntimeError()\n",
    "        \n",
    "    pattern = r\"gap(\\d+\\.\\d+|\\d+)\"\n",
    "    match = re.search(pattern, basepath)\n",
    "    if match:\n",
    "        gap = float(match.group(1))\n",
    "    else:\n",
    "        raise RuntimeError()\n",
    "\n",
    "    scaler = SiloToVideoScaler(500, 1200, 0.2, (-0.7 / 10, 0.7), 115, 81)\n",
    "    cap = cv2.VideoCapture(video_path)\n",
    "\n",
    "\n",
    "    # Check if video file successfully opened\n",
    "    if not cap.isOpened():\n",
    "        print(\"Error opening video file\")\n",
    "        exit()\n",
    "\n",
    "    # Get video properties\n",
    "    width = int(cap.get(cv2.CAP_PROP_FRAME_WIDTH))\n",
    "    height = int(cap.get(cv2.CAP_PROP_FRAME_HEIGHT))\n",
    "    fps = cap.get(cv2.CAP_PROP_FPS)\n",
    "\n",
    "    # Define line coordinates\n",
    "    line_color = (0, 0, 0)  # Green color in BGR format\n",
    "    line_thickness = 2\n",
    "\n",
    "    # Create VideoWriter object to save output video\n",
    "    output_path = \"path_to_save_output_video.mp4\"  # Replace with your desired output file path\n",
    "    fourcc = cv2.VideoWriter_fourcc(*\"mp4v\")  # Codec for output video file (may vary based on system)\n",
    "    out = cv2.VideoWriter(output_path, fourcc, fps, (width, height))\n",
    "    frame_number = 0\n",
    "    while True:\n",
    "        # Read a frame from the video file\n",
    "        ret, frame = cap.read()\n",
    "\n",
    "        # If the frame was not read successfully, break the loop\n",
    "        if not ret:\n",
    "            break\n",
    "\n",
    "        start_point_x = scaler.coordinate_to_px('x', 0)\n",
    "        end_point_x = scaler.coordinate_to_px('x', 0.2 / 2 - gap / 2)\n",
    "\n",
    "        start_point_y = scaler.coordinate_to_px('y', 0) + line_thickness\n",
    "        start_point = (int(start_point_x), int(start_point_y))\n",
    "        end_point = (int(end_point_x), int(start_point_y))\n",
    "\n",
    "        # Draw the line on the frame\n",
    "        cv2.line(frame, start_point, end_point, line_color, line_thickness)\n",
    "\n",
    "        start_point_x = scaler.coordinate_to_px('x', 0.2 / 2 + gap / 2)\n",
    "        end_point_x = scaler.coordinate_to_px('x', 0.2)\n",
    "        start_point = (int(start_point_x), int(start_point_y))\n",
    "        end_point = (int(end_point_x), int(start_point_y))\n",
    "        cv2.line(frame, start_point, end_point, line_color, line_thickness)\n",
    "\n",
    "        # Display the frame\n",
    "        cv2.imshow(\"Video with Line\", frame)\n",
    "\n",
    "        # Write the frame to the output video file\n",
    "        out.write(frame)\n",
    "\n",
    "        # Check for 'q' key press to exit\n",
    "        if cv2.waitKey(1) & 0xFF == ord('q'):\n",
    "            break\n",
    "\n",
    "        frame_number += 1\n",
    "\n",
    "    # Release the video file and output video objects\n",
    "    cap.release()\n",
    "    out.release()\n",
    "\n",
    "    # Close all OpenCV windows\n",
    "    cv2.destroyAllWindows()\n",
    "    \n",
    "\n",
    "add_gap_walls(\"../tp5/out/silo/silo_fq0_gap0.04_i0.mp4\")"
   ]
  }
 ],
 "metadata": {
  "kernelspec": {
   "display_name": "Python 3 (ipykernel)",
   "language": "python",
   "name": "python3"
  },
  "language_info": {
   "codemirror_mode": {
    "name": "ipython",
    "version": 3
   },
   "file_extension": ".py",
   "mimetype": "text/x-python",
   "name": "python",
   "nbconvert_exporter": "python",
   "pygments_lexer": "ipython3",
   "version": "3.10.8"
  }
 },
 "nbformat": 4,
 "nbformat_minor": 5
}
